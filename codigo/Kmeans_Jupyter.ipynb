{
 "cells": [
  {
   "cell_type": "code",
   "execution_count": 2,
   "metadata": {},
   "outputs": [],
   "source": [
    "import numpy as np\n",
    "import pandas as pd\n",
    "import matplotlib.pyplot as plt\n",
    "import seaborn as sns\n",
    "import datetime as dt\n",
    "import sklearn\n",
    "from sklearn.preprocessing import StandardScaler\n",
    "from sklearn.cluster import KMeans\n",
    "from sklearn.metrics import silhouette_score\n",
    "from scipy.cluster.hierarchy import linkage\n",
    "from scipy.cluster.hierarchy import dendrogram\n",
    "from scipy.cluster.hierarchy import cut_tree"
   ]
  },
  {
   "cell_type": "markdown",
   "metadata": {},
   "source": [
    "Datos a tener en consideración:\n",
    "\n",
    "R: Número de días desde la última compra\n",
    "\n",
    "F: Frecuencia, número de transacciones\n",
    "\n",
    "M: Total de ingresos de las transacciones"
   ]
  },
  {
   "cell_type": "code",
   "execution_count": 3,
   "metadata": {},
   "outputs": [],
   "source": [
    "#Lectura de la BD preprocesada\n",
    "df_bd_preprocesada = pd.read_csv('BD/OnlineRetail_Preprocesada.csv', sep=',', encoding = 'unicode_escape')"
   ]
  },
  {
   "cell_type": "code",
   "execution_count": 4,
   "metadata": {},
   "outputs": [],
   "source": [
    "#Creamos una nueva columna llamada Ingresos\n",
    "df_bd_preprocesada['Ingresos'] = df_bd_preprocesada['Quantity']*df_bd_preprocesada['UnitPrice']\n",
    "rfm_m = df_bd_preprocesada.groupby('CustomerID')['Ingresos'].sum()\n",
    "rfm_m = rfm_m.reset_index()\n",
    "\n",
    "#Creamos una nueva columna llamada Frecuencia\n",
    "rfm_f = df_bd_preprocesada.groupby('CustomerID')['InvoiceNo'].count()\n",
    "rfm_f = rfm_f.reset_index()\n",
    "rfm_f.columns = ['CustomerID', 'Frecuencia']\n",
    "\n",
    "#Se fucionan las dos nuevas columnas y se asocian al CustomerID correspondiente\n",
    "rfm = pd.merge(rfm_m, rfm_f, on='CustomerID', how='inner')"
   ]
  },
  {
   "cell_type": "code",
   "execution_count": 5,
   "metadata": {},
   "outputs": [],
   "source": [
    "#Creamos un nuevo atributo llamado ÚltimaCompra\n",
    "df_bd_preprocesada['InvoiceDate'] = pd.to_datetime(df_bd_preprocesada['InvoiceDate'])\n",
    "\n",
    "#Conocemos la última fecha donde se realizó una transacción\n",
    "max_date = max(df_bd_preprocesada['InvoiceDate'])\n",
    "max_date\n",
    "#Conocemos la diferencia entre la última transacción y la fecha actual\n",
    "df_bd_preprocesada['Diff'] = max_date - df_bd_preprocesada['InvoiceDate']\n",
    "\n",
    "#Calculamos la última fecha de los clientes para saber la actual\n",
    "rfm_p = df_bd_preprocesada.groupby('CustomerID')['Diff'].min()\n",
    "rfm_p = rfm_p.reset_index()\n",
    "\n",
    "#Extraemos el número de días desde la última transacción\n",
    "rfm_p['Diff'] = rfm_p['Diff'].dt.days\n",
    "\n",
    "#Obtenemos los datos finales de R, F y M\n",
    "rfm = pd.merge(rfm, rfm_p, on='CustomerID', how='inner')\n",
    "rfm.columns = ['CustomerID', 'Ingresos', 'Frecuencia', 'ÚltimaCompra']"
   ]
  },
  {
   "cell_type": "code",
   "execution_count": 6,
   "metadata": {},
   "outputs": [
    {
     "name": "stdout",
     "output_type": "stream",
     "text": [
      "   Unnamed: 0  InvoiceNo StockCode                          Description  \\\n",
      "0           0     536365    85123A   WHITE HANGING HEART T-LIGHT HOLDER   \n",
      "1           1     536365     71053                  WHITE METAL LANTERN   \n",
      "2           2     536365    84406B       CREAM CUPID HEARTS COAT HANGER   \n",
      "3           3     536365    84029G  KNITTED UNION FLAG HOT WATER BOTTLE   \n",
      "4           4     536365    84029E       RED WOOLLY HOTTIE WHITE HEART.   \n",
      "\n",
      "   Quantity         InvoiceDate  UnitPrice  CustomerID         Country  \\\n",
      "0         6 2010-12-01 08:26:00       2.55     17850.0  United Kingdom   \n",
      "1         6 2010-12-01 08:26:00       3.39     17850.0  United Kingdom   \n",
      "2         8 2010-12-01 08:26:00       2.75     17850.0  United Kingdom   \n",
      "3         6 2010-12-01 08:26:00       3.39     17850.0  United Kingdom   \n",
      "4         6 2010-12-01 08:26:00       3.39     17850.0  United Kingdom   \n",
      "\n",
      "   Ingresos              Diff  \n",
      "0     15.30 373 days 04:24:00  \n",
      "1     20.34 373 days 04:24:00  \n",
      "2     22.00 373 days 04:24:00  \n",
      "3     20.34 373 days 04:24:00  \n",
      "4     20.34 373 days 04:24:00  \n",
      "   CustomerID  Ingresos  Frecuencia  ÚltimaCompra\n",
      "0     12346.0  77183.60           1           325\n",
      "1     12347.0   4310.00         182             1\n",
      "2     12348.0   1797.24          31            74\n",
      "3     12349.0   1757.55          73            18\n",
      "4     12350.0    334.40          17           309\n"
     ]
    }
   ],
   "source": [
    "print(df_bd_preprocesada.head(5))\n",
    "print(rfm.head(5))"
   ]
  },
  {
   "cell_type": "code",
   "execution_count": 8,
   "metadata": {},
   "outputs": [
    {
     "name": "stdout",
     "output_type": "stream",
     "text": [
      "   Ingresos  Frecuencia  ÚltimaCompra\n",
      "0  8.363977   -0.396968      2.334858\n",
      "1  0.251779    0.405730     -0.905199\n",
      "2 -0.027938   -0.263924     -0.175186\n",
      "3 -0.032357   -0.077663     -0.735196\n",
      "4 -0.190780   -0.326011      2.174855\n"
     ]
    }
   ],
   "source": [
    "#Reescalamos los atributos\n",
    "rfm_df = rfm[['Ingresos', 'Frecuencia', 'ÚltimaCompra']]\n",
    "scaler = StandardScaler()\n",
    "rfm_df_scaled = scaler.fit_transform(rfm_df)\n",
    "rfm_df_scaled = pd.DataFrame(rfm_df_scaled)\n",
    "rfm_df_scaled.columns = ['Ingresos', 'Frecuencia', 'ÚltimaCompra']\n",
    "print(rfm_df_scaled.head(5))"
   ]
  },
  {
   "cell_type": "markdown",
   "metadata": {},
   "source": [
    "################## COMENZAMOS EL CLUSTERING DE K-MEANS ##################"
   ]
  },
  {
   "cell_type": "code",
   "execution_count": 15,
   "metadata": {},
   "outputs": [
    {
     "data": {
      "text/plain": [
       "array([5, 0, 7, ..., 0, 8, 0])"
      ]
     },
     "execution_count": 15,
     "metadata": {},
     "output_type": "execute_result"
    }
   ],
   "source": [
    "kmeans = KMeans(n_clusters=9, max_iter=50) #MODIFICAMOS LA CANTIDAD DE ITERACIONES Y NUMERO DE CLUSTERS\n",
    "kmeans.fit(rfm_df_scaled)\n",
    "kmeans.labels_\n"
   ]
  },
  {
   "cell_type": "code",
   "execution_count": 16,
   "metadata": {},
   "outputs": [
    {
     "name": "stdout",
     "output_type": "stream",
     "text": [
      "Valores:\n",
      "\n",
      "\n",
      "\n",
      "Para n_clusters=2, el valor es is 0.9312414894281854\n",
      "\n",
      "\n",
      "Para n_clusters=3, el valor es is 0.6023126726335443\n",
      "\n",
      "\n",
      "Para n_clusters=4, el valor es is 0.6011885408558991\n",
      "\n",
      "\n",
      "Para n_clusters=5, el valor es is 0.6165940247929412\n",
      "\n",
      "\n",
      "Para n_clusters=6, el valor es is 0.5904310761500766\n",
      "\n",
      "\n",
      "Para n_clusters=7, el valor es is 0.5283752460272697\n",
      "\n",
      "\n",
      "Para n_clusters=8, el valor es is 0.5243764313579502\n",
      "\n",
      "\n",
      "Para n_clusters=9, el valor es is 0.4838027668268491\n",
      "\n",
      "\n",
      "Para n_clusters=10, el valor es is 0.4336983769661903\n"
     ]
    }
   ],
   "source": [
    "#Ahora encontramos el número óptimo de Clusters\n",
    "ssd = []\n",
    "range_n_clusters = [2, 3, 4, 5, 6, 7, 8, 9, 10]\n",
    "for num_clusters in range_n_clusters:\n",
    "    kmeans = KMeans(n_clusters=num_clusters, max_iter=50)\n",
    "    kmeans.fit(rfm_df_scaled)\n",
    "    \n",
    "    ssd.append(kmeans.inertia_)\n",
    "\n",
    "range_n_clusters = [2, 3, 4, 5, 6, 7, 8, 9, 10]\n",
    "\n",
    "print(\"Valores:\\n\")\n",
    "for num_clusters in range_n_clusters:\n",
    "    \n",
    "    #Inicializamos k-means\n",
    "    kmeans = KMeans(n_clusters=num_clusters, max_iter=50)\n",
    "    kmeans.fit(rfm_df_scaled)\n",
    "    \n",
    "    cluster_labels = kmeans.labels_\n",
    "    \n",
    "    #Obtenemos valor de distancia entre los clusters (desde el centro al mas lejano)\n",
    "    valor = silhouette_score(rfm_df_scaled, cluster_labels)\n",
    "    print(\"\\n\")\n",
    "    print(\"Para n_clusters={0}, el valor es is {1}\".format(num_clusters, valor))\n",
    "\n"
   ]
  },
  {
   "cell_type": "code",
   "execution_count": 17,
   "metadata": {},
   "outputs": [
    {
     "name": "stdout",
     "output_type": "stream",
     "text": [
      "   CustomerID  Ingresos  Frecuencia  ÚltimaCompra  Cluster_Id\n",
      "0     12346.0  77183.60           1           325           8\n",
      "1     12347.0   4310.00         182             1           9\n",
      "2     12348.0   1797.24          31            74           0\n",
      "3     12349.0   1757.55          73            18           5\n",
      "4     12350.0    334.40          17           309           2\n"
     ]
    }
   ],
   "source": [
    "#Podemos usar otros parámetros para ejecutar k-means. Disminuimos la cantidad de clusters\n",
    "kmeans = KMeans(n_clusters=10, max_iter=50)\n",
    "kmeans.fit(rfm_df_scaled)\n",
    "kmeans.labels_\n",
    "rfm['Cluster_Id'] = kmeans.labels_\n",
    "print(rfm.head(5))"
   ]
  },
  {
   "cell_type": "code",
   "execution_count": 18,
   "metadata": {},
   "outputs": [
    {
     "data": {
      "image/png": "[encoded data removed]",
      "text/plain": [
       "<Figure size 432x288 with 1 Axes>"
      ]
     },
     "metadata": {
      "needs_background": "light"
     },
     "output_type": "display_data"
    },
    {
     "data": {
      "image/png": "[encoded data removed]",
      "text/plain": [
       "<Figure size 432x288 with 1 Axes>"
      ]
     },
     "metadata": {
      "needs_background": "light"
     },
     "output_type": "display_data"
    },
    {
     "data": {
      "image/png": "[encoded data removed]",
      "text/plain": [
       "<Figure size 432x288 with 1 Axes>"
      ]
     },
     "metadata": {
      "needs_background": "light"
     },
     "output_type": "display_data"
    }
   ],
   "source": [
    "#Utilizamos un BoxPlot para visualizar los Clusters_Id vs Ingresos\n",
    "sns.boxplot(x='Cluster_Id', y='Ingresos', data=rfm)\n",
    "plt.show()\n",
    "\n",
    "#Utilizamos un BoxPlot para visualizar los Clusters_Id vs Frecuencia\n",
    "sns.boxplot(x='Cluster_Id', y='Frecuencia', data=rfm)\n",
    "plt.show()\n",
    "\n",
    "#Utilizamos un BoxPlot para visualizar los Clusters_Id vs Número de días desde última compra\n",
    "sns.boxplot(x='Cluster_Id', y='ÚltimaCompra', data=rfm)\n",
    "plt.show() "
   ]
  },
  {
   "cell_type": "code",
   "execution_count": null,
   "metadata": {},
   "outputs": [],
   "source": []
  }
 ],
 "metadata": {
  "kernelspec": {
   "display_name": "Python 3",
   "language": "python",
   "name": "python3"
  },
  "language_info": {
   "codemirror_mode": {
    "name": "ipython",
    "version": 3
   },
   "file_extension": ".py",
   "mimetype": "text/x-python",
   "name": "python",
   "nbconvert_exporter": "python",
   "pygments_lexer": "ipython3",
   "version": "3.7.6"
  }
 },
 "nbformat": 4,
 "nbformat_minor": 4
}
