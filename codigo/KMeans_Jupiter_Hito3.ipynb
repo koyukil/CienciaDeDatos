{
 "cells": [
  {
   "cell_type": "code",
   "execution_count": 21,
   "metadata": {},
   "outputs": [],
   "source": [
    "%matplotlib inline\n",
    "import numpy as np\n",
    "import matplotlib.pyplot as plt\n",
    "import seaborn; \n",
    "from sklearn.linear_model import LinearRegression\n",
    "from scipy import stats\n",
    "import pylab as pl\n",
    "from sklearn.cluster import KMeans\n",
    "from fase2_funciones import *"
   ]
  },
  {
   "cell_type": "code",
   "execution_count": 22,
   "metadata": {
    "scrolled": true
   },
   "outputs": [],
   "source": [
    "df_bd_preprocesada = pd.read_csv('BD/OnlineRetail_Preprocesada.csv', sep=',', encoding = 'unicode_escape')\n",
    "df_pivot = df_bd_preprocesada['InvoiceDate'].str.split(expand = True)\n",
    "df_pivot.rename(columns = {0: 'Fecha', 1: 'Hora'}, inplace=True)\n",
    "df_bd_preprocesada = df_bd_preprocesada.drop(columns =['Unnamed: 0','InvoiceDate'])\n",
    "df_bd_preprocesada = pd.concat([df_bd_preprocesada,df_pivot], axis = 1)\n",
    "df_bd_preprocesada['Monto'] = df_bd_preprocesada['UnitPrice'] * df_bd_preprocesada['Quantity']\n"
   ]
  },
  {
   "cell_type": "code",
   "execution_count": 23,
   "metadata": {},
   "outputs": [
    {
     "data": {
      "text/html": [
       "<div>\n",
       "<style scoped>\n",
       "    .dataframe tbody tr th:only-of-type {\n",
       "        vertical-align: middle;\n",
       "    }\n",
       "\n",
       "    .dataframe tbody tr th {\n",
       "        vertical-align: top;\n",
       "    }\n",
       "\n",
       "    .dataframe thead th {\n",
       "        text-align: right;\n",
       "    }\n",
       "</style>\n",
       "<table border=\"1\" class=\"dataframe\">\n",
       "  <thead>\n",
       "    <tr style=\"text-align: right;\">\n",
       "      <th></th>\n",
       "      <th>InvoiceNo</th>\n",
       "      <th>Quantity</th>\n",
       "      <th>UnitPrice</th>\n",
       "      <th>CustomerID</th>\n",
       "      <th>Monto</th>\n",
       "    </tr>\n",
       "  </thead>\n",
       "  <tbody>\n",
       "    <tr>\n",
       "      <th>count</th>\n",
       "      <td>392732.000000</td>\n",
       "      <td>392732.000000</td>\n",
       "      <td>392732.000000</td>\n",
       "      <td>392732.000000</td>\n",
       "      <td>392732.000000</td>\n",
       "    </tr>\n",
       "    <tr>\n",
       "      <th>mean</th>\n",
       "      <td>0.535714</td>\n",
       "      <td>0.000150</td>\n",
       "      <td>0.000384</td>\n",
       "      <td>0.495158</td>\n",
       "      <td>0.000134</td>\n",
       "    </tr>\n",
       "    <tr>\n",
       "      <th>std</th>\n",
       "      <td>0.289397</td>\n",
       "      <td>0.002242</td>\n",
       "      <td>0.002731</td>\n",
       "      <td>0.288431</td>\n",
       "      <td>0.001847</td>\n",
       "    </tr>\n",
       "    <tr>\n",
       "      <th>min</th>\n",
       "      <td>0.000000</td>\n",
       "      <td>0.000000</td>\n",
       "      <td>0.000000</td>\n",
       "      <td>0.000000</td>\n",
       "      <td>0.000000</td>\n",
       "    </tr>\n",
       "    <tr>\n",
       "      <th>25%</th>\n",
       "      <td>0.284574</td>\n",
       "      <td>0.000012</td>\n",
       "      <td>0.000154</td>\n",
       "      <td>0.270830</td>\n",
       "      <td>0.000029</td>\n",
       "    </tr>\n",
       "    <tr>\n",
       "      <th>50%</th>\n",
       "      <td>0.564084</td>\n",
       "      <td>0.000062</td>\n",
       "      <td>0.000239</td>\n",
       "      <td>0.471974</td>\n",
       "      <td>0.000074</td>\n",
       "    </tr>\n",
       "    <tr>\n",
       "      <th>75%</th>\n",
       "      <td>0.789350</td>\n",
       "      <td>0.000136</td>\n",
       "      <td>0.000461</td>\n",
       "      <td>0.748191</td>\n",
       "      <td>0.000118</td>\n",
       "    </tr>\n",
       "    <tr>\n",
       "      <th>max</th>\n",
       "      <td>1.000000</td>\n",
       "      <td>1.000000</td>\n",
       "      <td>1.000000</td>\n",
       "      <td>1.000000</td>\n",
       "      <td>1.000000</td>\n",
       "    </tr>\n",
       "  </tbody>\n",
       "</table>\n",
       "</div>"
      ],
      "text/plain": [
       "           InvoiceNo       Quantity      UnitPrice     CustomerID  \\\n",
       "count  392732.000000  392732.000000  392732.000000  392732.000000   \n",
       "mean        0.535714       0.000150       0.000384       0.495158   \n",
       "std         0.289397       0.002242       0.002731       0.288431   \n",
       "min         0.000000       0.000000       0.000000       0.000000   \n",
       "25%         0.284574       0.000012       0.000154       0.270830   \n",
       "50%         0.564084       0.000062       0.000239       0.471974   \n",
       "75%         0.789350       0.000136       0.000461       0.748191   \n",
       "max         1.000000       1.000000       1.000000       1.000000   \n",
       "\n",
       "               Monto  \n",
       "count  392732.000000  \n",
       "mean        0.000134  \n",
       "std         0.001847  \n",
       "min         0.000000  \n",
       "25%         0.000029  \n",
       "50%         0.000074  \n",
       "75%         0.000118  \n",
       "max         1.000000  "
      ]
     },
     "execution_count": 23,
     "metadata": {},
     "output_type": "execute_result"
    }
   ],
   "source": [
    "df_bd_aux=df_bd_preprocesada.drop(['StockCode','Description','Country','Fecha','Hora'],axis=1)\n",
    "df_bd_Normalizada = (df_bd_aux-df_bd_aux.min())/(df_bd_aux.max()-df_bd_aux.min())\n",
    "df_bd_Normalizada.describe()"
   ]
  },
  {
   "cell_type": "code",
   "execution_count": 24,
   "metadata": {},
   "outputs": [],
   "source": [
    "wcss = []\n",
    "\n",
    "for i in range (1,11):\n",
    "    kmeans = KMeans(n_clusters = i, max_iter=300)\n",
    "    kmeans.fit(df_bd_Normalizada)\n",
    "    wcss.append(kmeans.inertia_)"
   ]
  },
  {
   "cell_type": "code",
   "execution_count": 25,
   "metadata": {},
   "outputs": [
    {
     "data": {
      "image/png": "[encoded data removed]",
      "text/plain": [
       "<Figure size 432x288 with 1 Axes>"
      ]
     },
     "metadata": {
      "needs_background": "light"
     },
     "output_type": "display_data"
    }
   ],
   "source": [
    "plt.plot(range(1,11),wcss)\n",
    "plt.title(\"Codo de Jambu\")\n",
    "plt.xlabel(\"numero de Clusters\")\n",
    "plt.ylabel(\"WCSS\")\n",
    "plt.show()"
   ]
  },
  {
   "cell_type": "code",
   "execution_count": 27,
   "metadata": {},
   "outputs": [
    {
     "name": "stdout",
     "output_type": "stream",
     "text": [
      "Reduced dataset shape: (392732, 2)\n"
     ]
    }
   ],
   "source": [
    "from sklearn.decomposition import PCA #analisis de componentes principales\n",
    "pca = PCA(n_components=2)\n",
    "pca.fit(df_bd_Normalizada)\n",
    "X_reduced = pca.transform(df_bd_Normalizada)\n",
    "print(\"Reduced dataset shape:\", X_reduced.shape)\n"
   ]
  },
  {
   "cell_type": "code",
   "execution_count": 28,
   "metadata": {},
   "outputs": [
    {
     "data": {
      "text/plain": [
       "KMeans(algorithm='auto', copy_x=True, init='k-means++', max_iter=300,\n",
       "       n_clusters=2, n_init=10, n_jobs=None, precompute_distances='auto',\n",
       "       random_state=None, tol=0.0001, verbose=0)"
      ]
     },
     "execution_count": 28,
     "metadata": {},
     "output_type": "execute_result"
    }
   ],
   "source": [
    "clustering = KMeans(n_clusters = 2, max_iter=300)\n",
    "clustering.fit(df_bd_Normalizada)"
   ]
  },
  {
   "cell_type": "code",
   "execution_count": 29,
   "metadata": {},
   "outputs": [
    {
     "name": "stdout",
     "output_type": "stream",
     "text": [
      "[[2.57541113e-01 1.53758970e-04 4.02117807e-04 4.97422489e-01\n",
      "  1.37999636e-04]\n",
      " [7.64732556e-01 1.47009223e-04 3.68810440e-04 4.93294011e-01\n",
      "  1.31294453e-04]]\n"
     ]
    }
   ],
   "source": [
    "centroides = clustering.cluster_centers_\n",
    "etiquetas = clustering.labels_\n",
    "print(centroides)"
   ]
  },
  {
   "cell_type": "code",
   "execution_count": 42,
   "metadata": {},
   "outputs": [
    {
     "data": {
      "image/png": "[encoded data removed]",
      "text/plain": [
       "<Figure size 432x288 with 1 Axes>"
      ]
     },
     "metadata": {
      "needs_background": "light"
     },
     "output_type": "display_data"
    }
   ],
   "source": [
    "y_pred = clustering.predict(df_bd_Normalizada)\n",
    "\n",
    "\n",
    "pl.scatter(X_reduced[:, 0], X_reduced[:, 1], c=y_pred,\n",
    "           cmap='RdYlBu'); \n",
    "pl.scatter(centroides[:, 0], centroides[:, 1], c='red',s=50)\n",
    "plt.title('Clasificacion K-Means ')\n",
    "plt.show()"
   ]
  },
  {
   "cell_type": "code",
   "execution_count": 41,
   "metadata": {},
   "outputs": [
    {
     "data": {
      "image/png": "[encoded data removed]",
      "text/plain": [
       "<Figure size 432x288 with 5 Axes>"
      ]
     },
     "metadata": {
      "needs_background": "light"
     },
     "output_type": "display_data"
    }
   ],
   "source": [
    "plt.subplot(2,3,1)\n",
    "clustering = KMeans(n_clusters = 2, max_iter=300)\n",
    "clustering.fit(df_bd_Normalizada)\n",
    "y_pred = clustering.predict(df_bd_Normalizada)\n",
    "pl.scatter(X_reduced[:, 0], X_reduced[:, 1], c=y_pred,\n",
    "           cmap='RdYlBu'); \n",
    "\n",
    "plt.subplot(2,3,2)\n",
    "clustering = KMeans(n_clusters = 4, max_iter=300)\n",
    "clustering.fit(df_bd_Normalizada)\n",
    "y_pred = clustering.predict(df_bd_Normalizada)\n",
    "\n",
    "pl.scatter(X_reduced[:, 0], X_reduced[:, 1], c=y_pred,\n",
    "           cmap='RdYlBu'); \n",
    "\n",
    "plt.subplot(2,3,3)\n",
    "clustering = KMeans(n_clusters = 6, max_iter=300)\n",
    "clustering.fit(df_bd_Normalizada)\n",
    "y_pred = clustering.predict(df_bd_Normalizada)\n",
    "\n",
    "pl.scatter(X_reduced[:, 0], X_reduced[:, 1], c=y_pred,\n",
    "           cmap='RdYlBu'); \n",
    "\n",
    "plt.subplot(2,3,4)\n",
    "clustering = KMeans(n_clusters = 8, max_iter=300)\n",
    "clustering.fit(df_bd_Normalizada)\n",
    "y_pred = clustering.predict(df_bd_Normalizada)\n",
    "\n",
    "pl.scatter(X_reduced[:, 0], X_reduced[:, 1], c=y_pred,\n",
    "           cmap='RdYlBu'); \n",
    "\n",
    "plt.subplot(2,3,5)\n",
    "clustering = KMeans(n_clusters = 10, max_iter=300)\n",
    "clustering.fit(df_bd_Normalizada)\n",
    "y_pred = clustering.predict(df_bd_Normalizada)\n",
    "\n",
    "pl.scatter(X_reduced[:, 0], X_reduced[:, 1], c=y_pred,\n",
    "           cmap='RdYlBu'); "
   ]
  },
  {
   "cell_type": "code",
   "execution_count": null,
   "metadata": {},
   "outputs": [],
   "source": []
  }
 ],
 "metadata": {
  "kernelspec": {
   "display_name": "Python 3",
   "language": "python",
   "name": "python3"
  },
  "language_info": {
   "codemirror_mode": {
    "name": "ipython",
    "version": 3
   },
   "file_extension": ".py",
   "mimetype": "text/x-python",
   "name": "python",
   "nbconvert_exporter": "python",
   "pygments_lexer": "ipython3",
   "version": "3.7.6"
  }
 },
 "nbformat": 4,
 "nbformat_minor": 4
}
