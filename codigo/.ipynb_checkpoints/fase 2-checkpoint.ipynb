{
 "cells": [
  {
   "cell_type": "code",
   "execution_count": 1,
   "metadata": {},
   "outputs": [],
   "source": [
    "import pandas as pd\n",
    "import matplotlib.pyplot as plt\n",
    "import numpy as np\n",
    "from sklearn.impute import SimpleImputer\n",
    "import seaborn as sns\n",
    "import os\n",
    "import subprocess\n",
    "\n",
    "\n",
    "df_bd_preprocesada = pd.read_csv('BD/OnlineRetail_Preprocesada2.csv', sep=',', encoding = 'unicode_escape')\n",
    "df_pivot = df_bd_preprocesada['InvoiceDate'].str.split(expand = True)\n",
    "df_pivot.rename(columns = {0: 'Fecha', 1: 'Hora'}, inplace=True)\n",
    "df_bd_preprocesada = df_bd_preprocesada.drop(columns =['Unnamed: 0','InvoiceDate'])\n",
    "df_bd_preprocesada = pd.concat([df_bd_preprocesada,df_pivot], axis = 1)\n",
    "df_bd_preprocesada['Monto'] = df_bd_preprocesada['UnitPrice'] * df_bd_preprocesada['Quantity']\n",
    "df_bd_ordenadas = df_bd_preprocesada.sort_values('InvoiceNo')"
   ]
  },
  {
   "cell_type": "code",
   "execution_count": 2,
   "metadata": {},
   "outputs": [
    {
     "name": "stdout",
     "output_type": "stream",
     "text": [
      "El promedio de articulos por compra es  278.6947561501942 \n",
      "la desviación estandar en cantidad de articulos por compra es  976.4694842812111 \n"
     ]
    }
   ],
   "source": [
    "#-------------------------cuantos articulos en promedio se compra en cada transacción---------------------\n",
    "df_pivot = df_bd_preprocesada[['InvoiceNo','Quantity', 'Monto']].groupby(['InvoiceNo']).sum()\n",
    "df_pivot=df_pivot.reset_index()\n",
    "print('El promedio de articulos por compra es  {} ' .format(df_pivot['Quantity'].mean()))\n",
    "print('la desviación estandar en cantidad de articulos por compra es  {} ' .format(df_pivot['Quantity'].std()))\n",
    "#-----El resultado es muy alto y poco real, eliminar valores demasiado altos para  mejorar la media-------"
   ]
  },
  {
   "cell_type": "code",
   "execution_count": 3,
   "metadata": {},
   "outputs": [
    {
     "name": "stdout",
     "output_type": "stream",
     "text": [
      "El promedio de libras gastadas por compra es  479.4566731765214 \n",
      "la desviación estandar de libras por compra es  1677.916284718865 \n"
     ]
    }
   ],
   "source": [
    "#---------------------Promedio de libras gastadas----------------------------\n",
    "print('El promedio de libras gastadas por compra es  {} ' .format(df_pivot['Monto'].mean()))\n",
    "print('la desviación estandar de libras por compra es  {} ' .format(df_pivot['Monto'].std()))\n",
    "#--------------- Mismo que lo anterior----------------\n"
   ]
  },
  {
   "cell_type": "code",
   "execution_count": 4,
   "metadata": {},
   "outputs": [
    {
     "name": "stdout",
     "output_type": "stream",
     "text": [
      "Cantidad total de clientes 4339\n",
      "Cantidad de clientes premium 872\n"
     ]
    }
   ],
   "source": [
    "\n",
    "#--------------------------Dividir grupo de clientes segun dinero gastado (premium/normal)-------\n",
    "df_pivot = df_bd_preprocesada[['CustomerID', 'Monto']].groupby(['CustomerID']).sum()\n",
    "df_pivot=df_pivot.reset_index()\n",
    "MontoMedio= df_pivot[['Monto']].mean().item()\n",
    "#----------------Se define monto medio como criterio para separar clientes ----------------------\n",
    "premium= []\n",
    "normal = []\n",
    "for i in range(0, len(df_pivot)):\n",
    "    if df_pivot.iloc[i]['Monto']<= MontoMedio:\n",
    "        normal.append(df_pivot.iloc[i]['CustomerID'])\n",
    "    else:\n",
    "        premium.append(df_pivot.iloc[i]['CustomerID'])\n",
    "\n",
    "print(\"Cantidad total de clientes {}\" .format(len(df_pivot)))\n",
    "print(\"Cantidad de clientes premium {}\" .format(len(premium)))"
   ]
  },
  {
   "cell_type": "code",
   "execution_count": 5,
   "metadata": {},
   "outputs": [
    {
     "name": "stdout",
     "output_type": "stream",
     "text": [
      "la hora donde más se compra es 12 horas\n",
      "la hora donde menos se compra es 6 horas\n"
     ]
    }
   ],
   "source": [
    "\n",
    "#------------------------------Intervalo de menor y mayor numero de transacciones-------------------\n",
    "df_pivot = df_bd_preprocesada['Hora'].str.split(expand = True, pat =\":\")\n",
    "print(\"la hora donde más se compra es {} horas\" .format(df_pivot[0].mode().item()))\n",
    "df_pivot = df_pivot.groupby([0]).count()\n",
    "df_pivot=df_pivot.reset_index()\n",
    "valorMin = df_pivot[1].min().item() #-- Se define valor minimo de transacciones\n",
    "min = 0\n",
    "for i in range(0, len(df_pivot)): #--- Se realiza comparación para saber hora de minimás transacciones\n",
    "    if valorMin == df_pivot.iloc[i][1]:\n",
    "        min = df_pivot.iloc[i][0]\n",
    "print(\"la hora donde menos se compra es {} horas\" .format(min))"
   ]
  },
  {
   "cell_type": "code",
   "execution_count": 6,
   "metadata": {},
   "outputs": [
    {
     "data": {
      "text/html": [
       "<div>\n",
       "<style scoped>\n",
       "    .dataframe tbody tr th:only-of-type {\n",
       "        vertical-align: middle;\n",
       "    }\n",
       "\n",
       "    .dataframe tbody tr th {\n",
       "        vertical-align: top;\n",
       "    }\n",
       "\n",
       "    .dataframe thead th {\n",
       "        text-align: right;\n",
       "    }\n",
       "</style>\n",
       "<table border=\"1\" class=\"dataframe\">\n",
       "  <thead>\n",
       "    <tr style=\"text-align: right;\">\n",
       "      <th></th>\n",
       "      <th>InvoiceNo</th>\n",
       "      <th>Description</th>\n",
       "      <th>Quantity</th>\n",
       "      <th>UnitPrice</th>\n",
       "      <th>CustomerID</th>\n",
       "      <th>Country</th>\n",
       "      <th>Fecha</th>\n",
       "      <th>Hora</th>\n",
       "      <th>Monto</th>\n",
       "    </tr>\n",
       "  </thead>\n",
       "  <tbody>\n",
       "    <tr>\n",
       "      <th>0</th>\n",
       "      <td>536365</td>\n",
       "      <td>WHITE HANGING HEART T-LIGHT HOLDER</td>\n",
       "      <td>6</td>\n",
       "      <td>2.55</td>\n",
       "      <td>17850.0</td>\n",
       "      <td>United Kingdom</td>\n",
       "      <td>12/1/2010</td>\n",
       "      <td>8:26</td>\n",
       "      <td>15.30</td>\n",
       "    </tr>\n",
       "    <tr>\n",
       "      <th>1</th>\n",
       "      <td>536365</td>\n",
       "      <td>WHITE METAL LANTERN</td>\n",
       "      <td>6</td>\n",
       "      <td>3.39</td>\n",
       "      <td>17850.0</td>\n",
       "      <td>United Kingdom</td>\n",
       "      <td>12/1/2010</td>\n",
       "      <td>8:26</td>\n",
       "      <td>20.34</td>\n",
       "    </tr>\n",
       "    <tr>\n",
       "      <th>2</th>\n",
       "      <td>536365</td>\n",
       "      <td>CREAM CUPID HEARTS COAT HANGER</td>\n",
       "      <td>8</td>\n",
       "      <td>2.75</td>\n",
       "      <td>17850.0</td>\n",
       "      <td>United Kingdom</td>\n",
       "      <td>12/1/2010</td>\n",
       "      <td>8:26</td>\n",
       "      <td>22.00</td>\n",
       "    </tr>\n",
       "    <tr>\n",
       "      <th>3</th>\n",
       "      <td>536365</td>\n",
       "      <td>KNITTED UNION FLAG HOT WATER BOTTLE</td>\n",
       "      <td>6</td>\n",
       "      <td>3.39</td>\n",
       "      <td>17850.0</td>\n",
       "      <td>United Kingdom</td>\n",
       "      <td>12/1/2010</td>\n",
       "      <td>8:26</td>\n",
       "      <td>20.34</td>\n",
       "    </tr>\n",
       "    <tr>\n",
       "      <th>4</th>\n",
       "      <td>536365</td>\n",
       "      <td>RED WOOLLY HOTTIE WHITE HEART.</td>\n",
       "      <td>6</td>\n",
       "      <td>3.39</td>\n",
       "      <td>17850.0</td>\n",
       "      <td>United Kingdom</td>\n",
       "      <td>12/1/2010</td>\n",
       "      <td>8:26</td>\n",
       "      <td>20.34</td>\n",
       "    </tr>\n",
       "    <tr>\n",
       "      <th>...</th>\n",
       "      <td>...</td>\n",
       "      <td>...</td>\n",
       "      <td>...</td>\n",
       "      <td>...</td>\n",
       "      <td>...</td>\n",
       "      <td>...</td>\n",
       "      <td>...</td>\n",
       "      <td>...</td>\n",
       "      <td>...</td>\n",
       "    </tr>\n",
       "    <tr>\n",
       "      <th>392719</th>\n",
       "      <td>581587</td>\n",
       "      <td>PLASTERS IN TIN STRONGMAN</td>\n",
       "      <td>12</td>\n",
       "      <td>1.65</td>\n",
       "      <td>12680.0</td>\n",
       "      <td>France</td>\n",
       "      <td>12/9/2011</td>\n",
       "      <td>12:50</td>\n",
       "      <td>19.80</td>\n",
       "    </tr>\n",
       "    <tr>\n",
       "      <th>392718</th>\n",
       "      <td>581587</td>\n",
       "      <td>PLASTERS IN TIN CIRCUS PARADE</td>\n",
       "      <td>12</td>\n",
       "      <td>1.65</td>\n",
       "      <td>12680.0</td>\n",
       "      <td>France</td>\n",
       "      <td>12/9/2011</td>\n",
       "      <td>12:50</td>\n",
       "      <td>19.80</td>\n",
       "    </tr>\n",
       "    <tr>\n",
       "      <th>392730</th>\n",
       "      <td>581587</td>\n",
       "      <td>CHILDRENS CUTLERY CIRCUS PARADE</td>\n",
       "      <td>4</td>\n",
       "      <td>4.15</td>\n",
       "      <td>12680.0</td>\n",
       "      <td>France</td>\n",
       "      <td>12/9/2011</td>\n",
       "      <td>12:50</td>\n",
       "      <td>16.60</td>\n",
       "    </tr>\n",
       "    <tr>\n",
       "      <th>392723</th>\n",
       "      <td>581587</td>\n",
       "      <td>ALARM CLOCK BAKELIKE IVORY</td>\n",
       "      <td>4</td>\n",
       "      <td>3.75</td>\n",
       "      <td>12680.0</td>\n",
       "      <td>France</td>\n",
       "      <td>12/9/2011</td>\n",
       "      <td>12:50</td>\n",
       "      <td>15.00</td>\n",
       "    </tr>\n",
       "    <tr>\n",
       "      <th>392731</th>\n",
       "      <td>581587</td>\n",
       "      <td>BAKING SET 9 PIECE RETROSPOT</td>\n",
       "      <td>3</td>\n",
       "      <td>4.95</td>\n",
       "      <td>12680.0</td>\n",
       "      <td>France</td>\n",
       "      <td>12/9/2011</td>\n",
       "      <td>12:50</td>\n",
       "      <td>14.85</td>\n",
       "    </tr>\n",
       "  </tbody>\n",
       "</table>\n",
       "<p>392732 rows × 9 columns</p>\n",
       "</div>"
      ],
      "text/plain": [
       "        InvoiceNo                          Description  Quantity  UnitPrice  \\\n",
       "0          536365   WHITE HANGING HEART T-LIGHT HOLDER         6       2.55   \n",
       "1          536365                  WHITE METAL LANTERN         6       3.39   \n",
       "2          536365       CREAM CUPID HEARTS COAT HANGER         8       2.75   \n",
       "3          536365  KNITTED UNION FLAG HOT WATER BOTTLE         6       3.39   \n",
       "4          536365       RED WOOLLY HOTTIE WHITE HEART.         6       3.39   \n",
       "...           ...                                  ...       ...        ...   \n",
       "392719     581587            PLASTERS IN TIN STRONGMAN        12       1.65   \n",
       "392718     581587       PLASTERS IN TIN CIRCUS PARADE         12       1.65   \n",
       "392730     581587      CHILDRENS CUTLERY CIRCUS PARADE         4       4.15   \n",
       "392723     581587           ALARM CLOCK BAKELIKE IVORY         4       3.75   \n",
       "392731     581587        BAKING SET 9 PIECE RETROSPOT          3       4.95   \n",
       "\n",
       "        CustomerID         Country      Fecha   Hora  Monto  \n",
       "0          17850.0  United Kingdom  12/1/2010   8:26  15.30  \n",
       "1          17850.0  United Kingdom  12/1/2010   8:26  20.34  \n",
       "2          17850.0  United Kingdom  12/1/2010   8:26  22.00  \n",
       "3          17850.0  United Kingdom  12/1/2010   8:26  20.34  \n",
       "4          17850.0  United Kingdom  12/1/2010   8:26  20.34  \n",
       "...            ...             ...        ...    ...    ...  \n",
       "392719     12680.0          France  12/9/2011  12:50  19.80  \n",
       "392718     12680.0          France  12/9/2011  12:50  19.80  \n",
       "392730     12680.0          France  12/9/2011  12:50  16.60  \n",
       "392723     12680.0          France  12/9/2011  12:50  15.00  \n",
       "392731     12680.0          France  12/9/2011  12:50  14.85  \n",
       "\n",
       "[392732 rows x 9 columns]"
      ]
     },
     "execution_count": 6,
     "metadata": {},
     "output_type": "execute_result"
    }
   ],
   "source": [
    "df_bd_ordenadas.head(392734)"
   ]
  },
  {
   "cell_type": "code",
   "execution_count": 7,
   "metadata": {},
   "outputs": [
    {
     "name": "stdout",
     "output_type": "stream",
     "text": [
      "392732\n"
     ]
    }
   ],
   "source": [
    "len_records = len(df_bd_ordenadas)\n",
    "print(len_records)"
   ]
  },
  {
   "cell_type": "code",
   "execution_count": 37,
   "metadata": {},
   "outputs": [
    {
     "name": "stdout",
     "output_type": "stream",
     "text": [
      "[['WHITE HANGING HEART T-LIGHT HOLDER', 'WHITE METAL LANTERN', 'CREAM CUPID HEARTS COAT HANGER', 'KNITTED UNION FLAG HOT WATER BOTTLE', 'RED WOOLLY HOTTIE WHITE HEART.', 'SET 7 BABUSHKA NESTING BOXES', 'GLASS STAR FROSTED T-LIGHT HOLDER', 'nan', 'nan', 'nan', 'nan', 'nan', 'nan', 'nan', 'nan', 'nan', 'nan', 'nan', 'nan', 'nan'], ['HAND WARMER UNION JACK', 'HAND WARMER RED POLKA DOT', 'nan', 'nan', 'nan', 'nan', 'nan', 'nan', 'nan', 'nan', 'nan', 'nan', 'nan', 'nan', 'nan', 'nan', 'nan', 'nan', 'nan', 'nan'], ['RECIPE BOX WITH METAL HEART', 'LOVE BUILDING BLOCK WORD', 'HOME BUILDING BLOCK WORD', 'BOX OF VINTAGE ALPHABET BLOCKS', 'BOX OF VINTAGE JIGSAW BLOCKS ', \"POPPY'S PLAYHOUSE BEDROOM \", 'IVORY KNITTED MUG COSY ', 'FELTCRAFT PRINCESS CHARLOTTE DOLL', \"POPPY'S PLAYHOUSE KITCHEN\", 'DOORMAT NEW ENGLAND', 'ASSORTED COLOUR BIRD ORNAMENT', 'BOX OF 6 ASSORTED COLOUR TEASPOONS', 'nan', 'nan', 'nan', 'nan', 'nan', 'nan', 'nan', 'nan'], ['BLUE COAT RACK PARIS FASHION', 'YELLOW COAT RACK PARIS FASHION', 'JAM MAKING SET WITH JARS', 'RED COAT RACK PARIS FASHION', 'nan', 'nan', 'nan', 'nan', 'nan', 'nan', 'nan', 'nan', 'nan', 'nan', 'nan', 'nan', 'nan', 'nan', 'nan', 'nan'], ['BATH BUILDING BLOCK WORD', 'nan', 'nan', 'nan', 'nan', 'nan', 'nan', 'nan', 'nan', 'nan', 'nan', 'nan', 'nan', 'nan', 'nan', 'nan', 'nan', 'nan', 'nan', 'nan'], ['SPACEBOY LUNCH BOX ', 'MINI JIGSAW SPACEBOY', 'MINI JIGSAW CIRCUS PARADE ', 'VINTAGE SEASIDE JIGSAW PUZZLES', ' SET 2 TEA TOWELS I LOVE LONDON ', 'RED TOADSTOOL LED NIGHT LIGHT', 'CHARLOTTE BAG DOLLY GIRL DESIGN', 'CIRCUS PARADE LUNCH BOX ', 'LUNCH BOX I LOVE LONDON', 'ROUND SNACK BOXES SET OF4 WOODLAND ', 'SET/2 RED RETROSPOT TEA TOWELS ', 'VINTAGE HEADS AND TAILS CARD GAME ', 'INFLATABLE POLITICAL GLOBE ', 'STARS GIFT TAPE ', 'PANDA AND BUNNIES STICKER SHEET', 'ALARM CLOCK BAKELIKE GREEN', 'ALARM CLOCK BAKELIKE RED ', 'ALARM CLOCK BAKELIKE PINK', 'MINI PAINT SET VINTAGE ', 'POSTAGE'], [\"PAPER CHAIN KIT 50'S CHRISTMAS \", 'nan', 'nan', 'nan', 'nan', 'nan', 'nan', 'nan', 'nan', 'nan', 'nan', 'nan', 'nan', 'nan', 'nan', 'nan', 'nan', 'nan', 'nan', 'nan'], ['HAND WARMER UNION JACK', 'HAND WARMER RED POLKA DOT', 'nan', 'nan', 'nan', 'nan', 'nan', 'nan', 'nan', 'nan', 'nan', 'nan', 'nan', 'nan', 'nan', 'nan', 'nan', 'nan', 'nan', 'nan'], ['WHITE HANGING HEART T-LIGHT HOLDER', 'GLASS STAR FROSTED T-LIGHT HOLDER', 'SET 7 BABUSHKA NESTING BOXES', 'RED WOOLLY HOTTIE WHITE HEART.', 'WOODEN FRAME ANTIQUE WHITE ', 'WOODEN PICTURE FRAME WHITE FINISH', 'WOOD S/3 CABINET ANT WHITE FINISH', 'WOOD 2 DRAWER CABINET WHITE FINISH', 'KNITTED UNION FLAG HOT WATER BOTTLE', 'VINTAGE BILLBOARD DRINK ME MUG', 'SAVE THE PLANET MUG', 'RETRO COFFEE MUGS ASSORTED', 'EDWARDIAN PARASOL RED', 'CREAM CUPID HEARTS COAT HANGER', 'WHITE METAL LANTERN', 'VINTAGE BILLBOARD LOVE/HATE MUG', 'nan', 'nan', 'nan', 'nan'], ['VICTORIAN SEWING BOX LARGE', 'nan', 'nan', 'nan', 'nan', 'nan', 'nan', 'nan', 'nan', 'nan', 'nan', 'nan', 'nan', 'nan', 'nan', 'nan', 'nan', 'nan', 'nan', 'nan']]\n"
     ]
    }
   ],
   "source": [
    "matriz = []\n",
    "# antes era 22-532-64\n",
    "maxF = 10\n",
    "maxL = 532\n",
    "maxC  = 20\n",
    "for i in range(maxF):\n",
    "    a = [\"nan\"]*maxC\n",
    "    matriz.append(a)\n",
    "invoice = df_bd_ordenadas.values[0,0]\n",
    "ii = 0\n",
    "jj = 0\n",
    "for i in range (0,maxL):\n",
    "    if invoice == df_bd_ordenadas.values[i,0] and jj < maxC:\n",
    "        desc = str(df_bd_ordenadas.values[i,1])\n",
    "        matriz[ii][jj]=desc\n",
    "        jj += 1\n",
    "    else:\n",
    "        ii += 1\n",
    "        if ii > maxF-1:\n",
    "            i = maxL + 1\n",
    "        else:\n",
    "            jj = 1\n",
    "            desc = str(df_bd_ordenadas.values[i,1])\n",
    "            matriz[ii][0]=desc\n",
    "            invoice = df_bd_ordenadas.values[i,0]\n",
    "print (matriz)    "
   ]
  },
  {
   "cell_type": "code",
   "execution_count": 38,
   "metadata": {},
   "outputs": [],
   "source": [
    "records=[]\n",
    "#for i in range(0, maxF):\n",
    "#    xx=matriz[i]\n",
    "#    for j in range (0, maxC):\n",
    "#        records.append(xx[j])\n",
    "        \n",
    "#print (records)"
   ]
  },
  {
   "cell_type": "code",
   "execution_count": null,
   "metadata": {},
   "outputs": [
    {
     "name": "stdout",
     "output_type": "stream",
     "text": [
      "15:34:55.691639\n",
      "15:34:55.691639\n"
     ]
    }
   ],
   "source": [
    "from apyori import apriori\n",
    "from datetime import datetime\n",
    "now=datetime.now()\n",
    "print (now.time())\n",
    "association_rules = apriori(matriz,min_support=0.0053,min_confidence=0.20,min_lift=3,min_lenght=5)\n",
    "print (now.time())\n",
    "association_results=list(association_rules)\n",
    "now=datetime.now\n",
    "print (now.time())"
   ]
  },
  {
   "cell_type": "code",
   "execution_count": null,
   "metadata": {},
   "outputs": [],
   "source": [
    "print(len(association_results))"
   ]
  },
  {
   "cell_type": "code",
   "execution_count": 81,
   "metadata": {},
   "outputs": [
    {
     "name": "stdout",
     "output_type": "stream",
     "text": [
      "RelationRecord(items=frozenset({'D', ' '}), support=0.005765765765765766, ordered_statistics=[OrderedStatistic(items_base=frozenset({' '}), items_add=frozenset({'D'}), confidence=0.64, lift=111.0), OrderedStatistic(items_base=frozenset({'D'}), items_add=frozenset({' '}), confidence=1.0, lift=111.0)])\n"
     ]
    }
   ],
   "source": [
    "print(association_results[2])"
   ]
  },
  {
   "cell_type": "code",
   "execution_count": null,
   "metadata": {},
   "outputs": [],
   "source": [
    "40 productos diferentes"
   ]
  }
 ],
 "metadata": {
  "kernelspec": {
   "display_name": "Python 3",
   "language": "python",
   "name": "python3"
  },
  "language_info": {
   "codemirror_mode": {
    "name": "ipython",
    "version": 3
   },
   "file_extension": ".py",
   "mimetype": "text/x-python",
   "name": "python",
   "nbconvert_exporter": "python",
   "pygments_lexer": "ipython3",
   "version": "3.8.3"
  }
 },
 "nbformat": 4,
 "nbformat_minor": 4
}
