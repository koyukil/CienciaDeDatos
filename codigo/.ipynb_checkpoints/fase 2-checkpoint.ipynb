{
 "cells": [
  {
   "cell_type": "code",
   "execution_count": 42,
   "metadata": {},
   "outputs": [],
   "source": [
    "from fase2_funciones import *\n",
    "from Apriori import *\n",
    "import os\n",
    "import subprocess\n",
    "\n",
    "df_bd_preprocesada = pd.read_csv('BD/OnlineRetail_Preprocesada.csv', sep=',', encoding = 'unicode_escape')\n",
    "df_pivot = df_bd_preprocesada['InvoiceDate'].str.split(expand = True)\n",
    "df_pivot.rename(columns = {0: 'Fecha', 1: 'Hora'}, inplace=True)\n",
    "df_bd_preprocesada = df_bd_preprocesada.drop(columns =['Unnamed: 0','InvoiceDate'])\n",
    "df_bd_preprocesada = pd.concat([df_bd_preprocesada,df_pivot], axis = 1)\n",
    "df_bd_preprocesada['Monto'] = df_bd_preprocesada['UnitPrice'] * df_bd_preprocesada['Quantity']"
   ]
  },
  {
   "cell_type": "code",
   "execution_count": 43,
   "metadata": {
    "scrolled": true
   },
   "outputs": [
    {
     "name": "stdout",
     "output_type": "stream",
     "text": [
      "\n",
      "-----------------------Articulos/Libras promedio-------------------------------\n",
      " \n",
      "El promedio de articulos por compra es  159.54274541531822 \n",
      "\n",
      "------------------------------------------------------\n",
      " \n",
      "El promedio de libras gastadas por compra es  293.6456461704423 \n",
      "\n",
      "---------------------------Clasificación de clientes ---------------------------\n",
      " \n",
      "Cantidad total de clientes 4339\n",
      "Cantidad de clientes premium 872\n",
      "Cantidad de clientes normales 3467\n",
      "\n",
      "---------------------Horas de mayor/menor transacciones ---------------------------------\n",
      " \n",
      "la hora donde más se compra es 12 horas\n"
     ]
    },
    {
     "data": {
      "image/png": "[encoded data removed]",
      "text/plain": [
       "<Figure size 720x360 with 1 Axes>"
      ]
     },
     "metadata": {
      "needs_background": "light"
     },
     "output_type": "display_data"
    },
    {
     "ename": "NameError",
     "evalue": "name 'grafico_monto' is not defined",
     "output_type": "error",
     "traceback": [
      "\u001b[1;31m---------------------------------------------------------------------------\u001b[0m",
      "\u001b[1;31mNameError\u001b[0m                                 Traceback (most recent call last)",
      "\u001b[1;32m<ipython-input-43-edbae0a1758a>\u001b[0m in \u001b[0;36m<module>\u001b[1;34m\u001b[0m\n\u001b[0;32m      3\u001b[0m \u001b[0mgrupo_cliente\u001b[0m\u001b[1;33m(\u001b[0m\u001b[0mdf_bd_preprocesada\u001b[0m\u001b[1;33m)\u001b[0m\u001b[1;33m\u001b[0m\u001b[1;33m\u001b[0m\u001b[0m\n\u001b[0;32m      4\u001b[0m \u001b[0mnumero_transacciones\u001b[0m\u001b[1;33m(\u001b[0m\u001b[0mdf_bd_preprocesada\u001b[0m\u001b[1;33m)\u001b[0m\u001b[1;33m\u001b[0m\u001b[1;33m\u001b[0m\u001b[0m\n\u001b[1;32m----> 5\u001b[1;33m \u001b[0mgrafico_monto\u001b[0m\u001b[1;33m(\u001b[0m\u001b[0mdf_bd_preprocesada\u001b[0m\u001b[1;33m)\u001b[0m\u001b[1;33m\u001b[0m\u001b[1;33m\u001b[0m\u001b[0m\n\u001b[0m",
      "\u001b[1;31mNameError\u001b[0m: name 'grafico_monto' is not defined"
     ]
    }
   ],
   "source": [
    "#--------------------Llamado a funciones ------------------\n",
    "articulos_libras_promedio (df_bd_preprocesada)\n",
    "grupo_cliente(df_bd_preprocesada)\n",
    "numero_transacciones(df_bd_preprocesada)\n",
    "grafico_monto(df_bd_preprocesada)"
   ]
  },
  {
   "cell_type": "markdown",
   "metadata": {},
   "source": [
    "#--------------------Se ejecuta el archivo Apriori.py-------------"
   ]
  },
  {
   "cell_type": "code",
   "execution_count": 25,
   "metadata": {},
   "outputs": [
    {
     "name": "stdout",
     "output_type": "stream",
     "text": [
      "Soporte:   0.01 \n",
      "\n",
      "Confianza:   0.6 \n",
      "\n",
      "\n",
      "Aplicando algoritmo A-priori... \n",
      "\n",
      "\n",
      "---------------top 20 reglas  -----------------\n",
      "frozenset({'FANCY FONT BIRTHDAY CARD', ' '})\n",
      "frozenset({'KEY FOB ', ' BACK DOOR '})\n",
      "frozenset({'KEY FOB ', ' SHED'})\n",
      "frozenset({'ALARM CLOCK BAKELIKE CHOCOLATE', 'ALARM CLOCK BAKELIKE GREEN'})\n",
      "frozenset({'ALARM CLOCK BAKELIKE CHOCOLATE', 'ALARM CLOCK BAKELIKE RED '})\n",
      "frozenset({'ALARM CLOCK BAKELIKE ORANGE', 'ALARM CLOCK BAKELIKE GREEN'})\n",
      "frozenset({'ALARM CLOCK BAKELIKE GREEN', 'ALARM CLOCK BAKELIKE RED '})\n",
      "frozenset({'ALARM CLOCK BAKELIKE IVORY', 'ALARM CLOCK BAKELIKE RED '})\n",
      "frozenset({'ALARM CLOCK BAKELIKE ORANGE', 'ALARM CLOCK BAKELIKE RED '})\n",
      "frozenset({'ALARM CLOCK BAKELIKE PINK', 'ALARM CLOCK BAKELIKE RED '})\n",
      "frozenset({'ASSORTED COLOUR BIRD ORNAMENT', 'PAINTED METAL PEARS ASSORTED'})\n",
      "frozenset({'BAKING SET 9 PIECE RETROSPOT ', 'BAKING SET SPACEBOY DESIGN'})\n",
      "frozenset({'TOILET METAL SIGN', 'BATHROOM METAL SIGN'})\n",
      "frozenset({'PINK HAPPY BIRTHDAY BUNTING', 'BLUE HAPPY BIRTHDAY BUNTING'})\n",
      "frozenset({'RED STRIPE CERAMIC DRAWER KNOB', 'BLUE STRIPE CERAMIC DRAWER KNOB'})\n",
      "frozenset({'CANDLEHOLDER PINK HANGING HEART', 'WHITE HANGING HEART T-LIGHT HOLDER'})\n",
      "frozenset({'CHARLOTTE BAG PINK POLKADOT', 'RED RETROSPOT CHARLOTTE BAG'})\n",
      "frozenset({'CHILDRENS CUTLERY SPACEBOY ', 'CHILDRENS CUTLERY DOLLY GIRL '})\n",
      "frozenset({'CHRISTMAS CRAFT LITTLE FRIENDS', 'CHRISTMAS CRAFT WHITE FAIRY '})\n",
      "frozenset({'COFFEE', 'SET 3 RETROSPOT TEA'})\n",
      "frozenset({'SUGAR', 'COFFEE'})\n",
      "\n",
      "----------------Oferta Diaria -------------------------\n",
      " \n",
      " la oferta de hoy es  ['PINK HAPPY BIRTHDAY BUNTING', 'BLUE HAPPY BIRTHDAY BUNTING'] \n",
      "\n",
      "----------------Oferta Diaria -------------------------\n",
      " \n",
      "///////////////////////////////////////////\n",
      "Ejecución del Algoritmo A-priori terminada.\n",
      "///////////////////////////////////////////\n"
     ]
    }
   ],
   "source": [
    "a_priori(df_bd_preprocesada,0.01,0.6)"
   ]
  },
  {
   "cell_type": "code",
   "execution_count": 26,
   "metadata": {},
   "outputs": [
    {
     "name": "stdout",
     "output_type": "stream",
     "text": [
      "Soporte:   0.02 \n",
      "\n",
      "Confianza:   0.6 \n",
      "\n",
      "\n",
      "Aplicando algoritmo A-priori... \n",
      "\n",
      "\n",
      "---------------top 20 reglas  -----------------\n",
      "frozenset({'ALARM CLOCK BAKELIKE GREEN', 'ALARM CLOCK BAKELIKE RED '})\n",
      "frozenset({'ALARM CLOCK BAKELIKE PINK', 'ALARM CLOCK BAKELIKE RED '})\n",
      "frozenset({'SPACEBOY LUNCH BOX ', 'DOLLY GIRL LUNCH BOX'})\n",
      "frozenset({'GARDENERS KNEELING PAD CUP OF TEA ', 'GARDENERS KNEELING PAD KEEP CALM '})\n",
      "frozenset({'GREEN REGENCY TEACUP AND SAUCER', 'PINK REGENCY TEACUP AND SAUCER'})\n",
      "frozenset({'GREEN REGENCY TEACUP AND SAUCER', 'ROSES REGENCY TEACUP AND SAUCER '})\n",
      "frozenset({'JUMBO BAG PINK POLKADOT', 'JUMBO BAG RED RETROSPOT'})\n",
      "frozenset({'JUMBO BAG STRAWBERRY', 'JUMBO BAG RED RETROSPOT'})\n",
      "frozenset({'PAPER CHAIN KIT VINTAGE CHRISTMAS', \"PAPER CHAIN KIT 50'S CHRISTMAS \"})\n",
      "frozenset({'PINK REGENCY TEACUP AND SAUCER', 'ROSES REGENCY TEACUP AND SAUCER '})\n",
      "frozenset({'RED HANGING HEART T-LIGHT HOLDER', 'WHITE HANGING HEART T-LIGHT HOLDER'})\n",
      "frozenset({'', 'ALARM CLOCK BAKELIKE GREEN', 'ALARM CLOCK BAKELIKE RED '})\n",
      "frozenset({'', 'ALARM CLOCK BAKELIKE PINK', 'ALARM CLOCK BAKELIKE RED '})\n",
      "frozenset({'', 'SPACEBOY LUNCH BOX ', 'DOLLY GIRL LUNCH BOX'})\n",
      "frozenset({'', 'GARDENERS KNEELING PAD CUP OF TEA ', 'GARDENERS KNEELING PAD KEEP CALM '})\n",
      "frozenset({'', 'GREEN REGENCY TEACUP AND SAUCER', 'PINK REGENCY TEACUP AND SAUCER'})\n",
      "frozenset({'', 'GREEN REGENCY TEACUP AND SAUCER', 'ROSES REGENCY TEACUP AND SAUCER '})\n",
      "frozenset({'', 'JUMBO BAG PINK POLKADOT', 'JUMBO BAG RED RETROSPOT'})\n",
      "frozenset({'', 'JUMBO BAG STRAWBERRY', 'JUMBO BAG RED RETROSPOT'})\n",
      "frozenset({'', 'PAPER CHAIN KIT VINTAGE CHRISTMAS', \"PAPER CHAIN KIT 50'S CHRISTMAS \"})\n",
      "frozenset({'', 'PINK REGENCY TEACUP AND SAUCER', 'ROSES REGENCY TEACUP AND SAUCER '})\n",
      "\n",
      "----------------Oferta Diaria -------------------------\n",
      " \n",
      " la oferta de hoy es  ['', 'JUMBO BAG STRAWBERRY', 'JUMBO BAG RED RETROSPOT'] \n",
      "\n",
      "----------------Oferta Diaria -------------------------\n",
      " \n",
      "///////////////////////////////////////////\n",
      "Ejecución del Algoritmo A-priori terminada.\n",
      "///////////////////////////////////////////\n"
     ]
    }
   ],
   "source": [
    "a_priori(df_bd_preprocesada,0.02,0.6)"
   ]
  },
  {
   "cell_type": "code",
   "execution_count": 27,
   "metadata": {},
   "outputs": [
    {
     "name": "stdout",
     "output_type": "stream",
     "text": [
      "Soporte:   0.01 \n",
      "\n",
      "Confianza:   0.4 \n",
      "\n",
      "\n",
      "Aplicando algoritmo A-priori... \n",
      "\n",
      "\n",
      "---------------top 20 reglas  -----------------\n",
      "frozenset({'FANCY FONT BIRTHDAY CARD', ' '})\n",
      "frozenset({'KEY FOB ', ' BACK DOOR '})\n",
      "frozenset({'KEY FOB ', ' SHED'})\n",
      "frozenset({'60 CAKE CASES DOLLY GIRL DESIGN', 'PACK OF 72 RETROSPOT CAKE CASES'})\n",
      "frozenset({'SET OF 20 VINTAGE CHRISTMAS NAPKINS', '60 CAKE CASES VINTAGE CHRISTMAS'})\n",
      "frozenset({'72 SWEETHEART FAIRY CAKE CASES', '60 TEATIME FAIRY CAKE CASES'})\n",
      "frozenset({'PACK OF 60 DINOSAUR CAKE CASES', '60 TEATIME FAIRY CAKE CASES'})\n",
      "frozenset({'PACK OF 60 PINK PAISLEY CAKE CASES', '60 TEATIME FAIRY CAKE CASES'})\n",
      "frozenset({'PACK OF 72 RETROSPOT CAKE CASES', '60 TEATIME FAIRY CAKE CASES'})\n",
      "frozenset({'72 SWEETHEART FAIRY CAKE CASES', 'PACK OF 72 RETROSPOT CAKE CASES'})\n",
      "frozenset({'ALARM CLOCK BAKELIKE CHOCOLATE', 'ALARM CLOCK BAKELIKE GREEN'})\n",
      "frozenset({'ALARM CLOCK BAKELIKE CHOCOLATE', 'ALARM CLOCK BAKELIKE RED '})\n",
      "frozenset({'ALARM CLOCK BAKELIKE IVORY', 'ALARM CLOCK BAKELIKE GREEN'})\n",
      "frozenset({'ALARM CLOCK BAKELIKE ORANGE', 'ALARM CLOCK BAKELIKE GREEN'})\n",
      "frozenset({'ALARM CLOCK BAKELIKE PINK', 'ALARM CLOCK BAKELIKE GREEN'})\n",
      "frozenset({'ALARM CLOCK BAKELIKE GREEN', 'ALARM CLOCK BAKELIKE RED '})\n",
      "frozenset({'ALARM CLOCK BAKELIKE PINK', 'ALARM CLOCK BAKELIKE IVORY'})\n",
      "frozenset({'ALARM CLOCK BAKELIKE IVORY', 'ALARM CLOCK BAKELIKE RED '})\n",
      "frozenset({'ALARM CLOCK BAKELIKE ORANGE', 'ALARM CLOCK BAKELIKE RED '})\n",
      "frozenset({'ALARM CLOCK BAKELIKE PINK', 'ALARM CLOCK BAKELIKE RED '})\n",
      "frozenset({'ASSORTED COLOUR BIRD ORNAMENT', 'PAINTED METAL PEARS ASSORTED'})\n",
      "\n",
      "----------------Oferta Diaria -------------------------\n",
      " \n",
      " la oferta de hoy es  ['ALARM CLOCK BAKELIKE IVORY', 'ALARM CLOCK BAKELIKE RED '] \n",
      "\n",
      "----------------Oferta Diaria -------------------------\n",
      " \n",
      "///////////////////////////////////////////\n",
      "Ejecución del Algoritmo A-priori terminada.\n",
      "///////////////////////////////////////////\n"
     ]
    }
   ],
   "source": [
    "a_priori(df_bd_preprocesada,0.01,0.4)"
   ]
  },
  {
   "cell_type": "code",
   "execution_count": 28,
   "metadata": {},
   "outputs": [
    {
     "name": "stdout",
     "output_type": "stream",
     "text": [
      "Soporte:   0.01 \n",
      "\n",
      "Confianza:   0.2 \n",
      "\n",
      "\n",
      "Aplicando algoritmo A-priori... \n",
      "\n",
      "\n",
      "---------------top 20 reglas  -----------------\n",
      "frozenset({'FANCY FONT BIRTHDAY CARD', ' '})\n",
      "frozenset({'KEY FOB ', ' BACK DOOR '})\n",
      "frozenset({'KEY FOB ', ' SHED'})\n",
      "frozenset({'60 CAKE CASES DOLLY GIRL DESIGN', 'PACK OF 72 RETROSPOT CAKE CASES'})\n",
      "frozenset({'SET OF 20 VINTAGE CHRISTMAS NAPKINS', '60 CAKE CASES VINTAGE CHRISTMAS'})\n",
      "frozenset({'72 SWEETHEART FAIRY CAKE CASES', '60 TEATIME FAIRY CAKE CASES'})\n",
      "frozenset({'PACK OF 60 DINOSAUR CAKE CASES', '60 TEATIME FAIRY CAKE CASES'})\n",
      "frozenset({'PACK OF 60 PINK PAISLEY CAKE CASES', '60 TEATIME FAIRY CAKE CASES'})\n",
      "frozenset({'PACK OF 72 RETROSPOT CAKE CASES', '60 TEATIME FAIRY CAKE CASES'})\n",
      "frozenset({'PACK OF 60 DINOSAUR CAKE CASES', '72 SWEETHEART FAIRY CAKE CASES'})\n",
      "frozenset({'72 SWEETHEART FAIRY CAKE CASES', 'PACK OF 72 RETROSPOT CAKE CASES'})\n",
      "frozenset({'ALARM CLOCK BAKELIKE CHOCOLATE', 'ALARM CLOCK BAKELIKE GREEN'})\n",
      "frozenset({'ALARM CLOCK BAKELIKE CHOCOLATE', 'ALARM CLOCK BAKELIKE RED '})\n",
      "frozenset({'ALARM CLOCK BAKELIKE IVORY', 'ALARM CLOCK BAKELIKE GREEN'})\n",
      "frozenset({'ALARM CLOCK BAKELIKE ORANGE', 'ALARM CLOCK BAKELIKE GREEN'})\n",
      "frozenset({'ALARM CLOCK BAKELIKE PINK', 'ALARM CLOCK BAKELIKE GREEN'})\n",
      "frozenset({'ALARM CLOCK BAKELIKE GREEN', 'ALARM CLOCK BAKELIKE RED '})\n",
      "frozenset({'ALARM CLOCK BAKELIKE PINK', 'ALARM CLOCK BAKELIKE IVORY'})\n",
      "frozenset({'ALARM CLOCK BAKELIKE IVORY', 'ALARM CLOCK BAKELIKE RED '})\n",
      "frozenset({'ALARM CLOCK BAKELIKE ORANGE', 'ALARM CLOCK BAKELIKE RED '})\n",
      "frozenset({'ALARM CLOCK BAKELIKE PINK', 'ALARM CLOCK BAKELIKE RED '})\n",
      "\n",
      "----------------Oferta Diaria -------------------------\n",
      " \n",
      " la oferta de hoy es  ['ALARM CLOCK BAKELIKE CHOCOLATE', 'ALARM CLOCK BAKELIKE GREEN'] \n",
      "\n",
      "----------------Oferta Diaria -------------------------\n",
      " \n",
      "///////////////////////////////////////////\n",
      "Ejecución del Algoritmo A-priori terminada.\n",
      "///////////////////////////////////////////\n"
     ]
    }
   ],
   "source": [
    "a_priori(df_bd_preprocesada,0.01,0.2)"
   ]
  },
  {
   "cell_type": "code",
   "execution_count": 35,
   "metadata": {},
   "outputs": [
    {
     "ename": "NameError",
     "evalue": "name 'grafico_monto' is not defined",
     "output_type": "error",
     "traceback": [
      "\u001b[1;31m---------------------------------------------------------------------------\u001b[0m",
      "\u001b[1;31mNameError\u001b[0m                                 Traceback (most recent call last)",
      "\u001b[1;32m<ipython-input-35-f09174e9165b>\u001b[0m in \u001b[0;36m<module>\u001b[1;34m\u001b[0m\n\u001b[1;32m----> 1\u001b[1;33m \u001b[0mgrafico_monto\u001b[0m\u001b[1;33m(\u001b[0m\u001b[0mdf_bd_preprocesada\u001b[0m\u001b[1;33m)\u001b[0m\u001b[1;33m\u001b[0m\u001b[1;33m\u001b[0m\u001b[0m\n\u001b[0m",
      "\u001b[1;31mNameError\u001b[0m: name 'grafico_monto' is not defined"
     ]
    }
   ],
   "source": []
  },
  {
   "cell_type": "code",
   "execution_count": null,
   "metadata": {},
   "outputs": [],
   "source": []
  }
 ],
 "metadata": {
  "kernelspec": {
   "display_name": "Python 3",
   "language": "python",
   "name": "python3"
  },
  "language_info": {
   "codemirror_mode": {
    "name": "ipython",
    "version": 3
   },
   "file_extension": ".py",
   "mimetype": "text/x-python",
   "name": "python",
   "nbconvert_exporter": "python",
   "pygments_lexer": "ipython3",
   "version": "3.8.3"
  }
 },
 "nbformat": 4,
 "nbformat_minor": 4
}
