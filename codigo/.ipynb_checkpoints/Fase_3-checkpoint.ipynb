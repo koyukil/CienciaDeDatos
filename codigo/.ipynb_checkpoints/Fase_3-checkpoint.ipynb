{
 "cells": [
  {
   "cell_type": "code",
   "execution_count": 3,
   "metadata": {},
   "outputs": [
    {
     "name": "stdout",
     "output_type": "stream",
     "text": [
      "\n",
      "-----------------------Articulos/Libras promedio-------------------------------\n",
      " \n",
      "El promedio de articulos por compra es  159.54274541531822 \n",
      "\n",
      "------------------------------------------------------\n",
      " \n",
      "El promedio de libras gastadas por compra es  293.6456461704423 \n",
      "\n",
      "---------------------------Clasificación de clientes ---------------------------\n",
      " \n",
      "Cantidad total de clientes 4339\n",
      "Cantidad de clientes premium 872\n",
      "Cantidad de clientes normales 3467\n",
      "\n",
      "---------------------Horas de mayor/menor transacciones ---------------------------------\n",
      " \n",
      "la hora donde más se compra es 12 horas\n"
     ]
    },
    {
     "data": {
      "image/png": "[encoded data removed]",
      "text/plain": [
       "<Figure size 720x360 with 1 Axes>"
      ]
     },
     "metadata": {
      "needs_background": "light"
     },
     "output_type": "display_data"
    },
    {
     "name": "stdout",
     "output_type": "stream",
     "text": [
      "Soporte:   0.02 \n",
      "\n",
      "Confianza:   0.3 \n",
      "\n",
      "---------------top 20 reglas  -----------------\n",
      "frozenset({'ALARM CLOCK BAKELIKE GREEN', 'ALARM CLOCK BAKELIKE RED '})\n",
      "frozenset({'ALARM CLOCK BAKELIKE PINK', 'ALARM CLOCK BAKELIKE RED '})\n",
      "frozenset({'SPACEBOY LUNCH BOX ', 'DOLLY GIRL LUNCH BOX'})\n",
      "frozenset({'GARDENERS KNEELING PAD CUP OF TEA ', 'GARDENERS KNEELING PAD KEEP CALM '})\n",
      "frozenset({'GREEN REGENCY TEACUP AND SAUCER', 'PINK REGENCY TEACUP AND SAUCER'})\n",
      "frozenset({'GREEN REGENCY TEACUP AND SAUCER', 'REGENCY CAKESTAND 3 TIER'})\n",
      "frozenset({'GREEN REGENCY TEACUP AND SAUCER', 'ROSES REGENCY TEACUP AND SAUCER '})\n",
      "frozenset({'HEART OF WICKER SMALL', 'HEART OF WICKER LARGE'})\n",
      "frozenset({'JUMBO BAG RED RETROSPOT', 'JUMBO BAG PINK POLKADOT'})\n",
      "frozenset({'JUMBO BAG RED RETROSPOT', 'JUMBO BAG STRAWBERRY'})\n",
      "frozenset({'JUMBO BAG RED RETROSPOT', 'JUMBO SHOPPER VINTAGE RED PAISLEY'})\n",
      "frozenset({'JUMBO BAG RED RETROSPOT', 'JUMBO STORAGE BAG SUKI'})\n",
      "frozenset({'JUMBO BAG RED RETROSPOT', 'LUNCH BAG RED RETROSPOT'})\n",
      "frozenset({'LUNCH BAG CARS BLUE', 'LUNCH BAG  BLACK SKULL.'})\n",
      "frozenset({'LUNCH BAG  BLACK SKULL.', 'LUNCH BAG PINK POLKADOT'})\n",
      "frozenset({'LUNCH BAG  BLACK SKULL.', 'LUNCH BAG RED RETROSPOT'})\n",
      "frozenset({'LUNCH BAG  BLACK SKULL.', 'LUNCH BAG SPACEBOY DESIGN '})\n",
      "frozenset({'LUNCH BAG  BLACK SKULL.', 'LUNCH BAG SUKI DESIGN '})\n",
      "frozenset({'LUNCH BAG RED RETROSPOT', 'LUNCH BAG APPLE DESIGN'})\n",
      "frozenset({'LUNCH BAG CARS BLUE', 'LUNCH BAG PINK POLKADOT'})\n",
      "frozenset({'LUNCH BAG CARS BLUE', 'LUNCH BAG RED RETROSPOT'})\n",
      "\n",
      "----------------Oferta Diaria -------------------------\n",
      " \n",
      " la oferta de hoy es  ['LUNCH BAG  BLACK SKULL.', 'LUNCH BAG SPACEBOY DESIGN '] \n",
      "\n",
      "----------------Oferta Diaria -------------------------\n",
      " \n"
     ]
    }
   ],
   "source": [
    "from fase2_funciones import *\n",
    "from Apriori import *\n",
    "import os\n",
    "import subprocess\n",
    "\n",
    "df_bd_preprocesada = pd.read_csv('BD/OnlineRetail_Preprocesada.csv', sep=',', encoding = 'unicode_escape')\n",
    "df_pivot = df_bd_preprocesada['InvoiceDate'].str.split(expand = True)\n",
    "df_pivot.rename(columns = {0: 'Fecha', 1: 'Hora'}, inplace=True)\n",
    "df_bd_preprocesada = df_bd_preprocesada.drop(columns =['Unnamed: 0','InvoiceDate'])\n",
    "df_bd_preprocesada = pd.concat([df_bd_preprocesada,df_pivot], axis = 1)\n",
    "df_bd_preprocesada['Monto'] = df_bd_preprocesada['UnitPrice'] * df_bd_preprocesada['Quantity']\n",
    "\n",
    "\n",
    "\n",
    "#--------------------Llamado a funciones ------------------\n",
    "articulos_libras_promedio (df_bd_preprocesada)\n",
    "grupo_cliente(df_bd_preprocesada)\n",
    "numero_transacciones(df_bd_preprocesada)\n",
    "\n",
    "#--------------------Se ejecuta el archivo Apriori.py-------------\n",
    "a_priori(df_bd_preprocesada, 0.02, 0.3)\n",
    "#Soporte, Confianza, respectivamente\n"
   ]
  },
  {
   "cell_type": "code",
   "execution_count": null,
   "metadata": {},
   "outputs": [],
   "source": []
  }
 ],
 "metadata": {
  "kernelspec": {
   "display_name": "Python 3",
   "language": "python",
   "name": "python3"
  },
  "language_info": {
   "codemirror_mode": {
    "name": "ipython",
    "version": 3
   },
   "file_extension": ".py",
   "mimetype": "text/x-python",
   "name": "python",
   "nbconvert_exporter": "python",
   "pygments_lexer": "ipython3",
   "version": "3.7.6"
  }
 },
 "nbformat": 4,
 "nbformat_minor": 4
}
