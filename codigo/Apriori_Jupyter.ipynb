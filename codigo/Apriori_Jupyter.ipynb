{
 "cells": [
  {
   "cell_type": "code",
   "execution_count": 1,
   "metadata": {},
   "outputs": [],
   "source": [
    "import numpy as np\n",
    "import matplotlib.pyplot as plt\n",
    "import pandas as pd\n",
    "from apyori import apriori\n",
    "from datetime import datetime\n",
    "import os\n",
    "import time\n",
    "import random"
   ]
  },
  {
   "cell_type": "code",
   "execution_count": 2,
   "metadata": {},
   "outputs": [],
   "source": [
    "def a_priori(df_bd_preprocesada):\n",
    "    #------------------Se crea copia de df original--------------------\n",
    "\n",
    "\n",
    "    df_bd_agrupada = df_bd_preprocesada[['InvoiceNo' , 'Description']]\n",
    "    #------------------Se agrega , a la columna Description para separarlos al agruparlos\n",
    "\n",
    "    df_bd_agrupada[ :]['Description'] = df_bd_agrupada[:]['Description'] + ','\n",
    "\n",
    "    #df_codigos =  df_bd_preprocesada[['StockCode', 'Description']].groupby('StockCode')\n",
    "    df_bd_agrupada = df_bd_agrupada.groupby('InvoiceNo').sum()\n",
    "\n",
    "\n",
    "    print(\"\\nAplicando algoritmo A-priori... \\n\")\n",
    "\n",
    "    #Largo de la tabla anterior\n",
    "    len_records = len(df_bd_agrupada)\n",
    "\n",
    "    matriz = []\n",
    "    #-----------------DF agrupado por InvoiceNo se separa por las , y se agrega a matriz como  []------------\n",
    "    for  i in range(0, len_records):\n",
    "        split = df_bd_agrupada.values[i][0].split(\",\")\n",
    "        matriz.append(split)\n",
    "    #-----------------Se realiza algoritmo apriori y se imprimem las 20 mejores reglas --------------------------------\n",
    "    print( \"\\n---------------top 20 reglas  -----------------\")\n",
    "    association_rules = apriori(matriz, min_support=0.01, min_confidence=0.6, min_lift=3, min_length= None)\n",
    "    reglas = []\n",
    "    for idx, x in enumerate(association_rules):\n",
    "        if idx > 20:\n",
    "           break\n",
    "        print (x.items )\n",
    "        reglas.append(x.items)\n",
    "\n",
    "\n",
    "    regla_diaria = [i for i in reglas[random.randrange(20)]]\n",
    "    print ( \"\\n----------------Oferta Diaria -------------------------\\n \")\n",
    "    print ( \" la oferta de hoy es  {} \" .format(regla_diaria))\n",
    "    print ( \"\\n----------------Oferta Diaria -------------------------\\n \")\n",
    "    print(\"Ejecución del Algoritmo A-priori terminada.\")"
   ]
  },
  {
   "cell_type": "code",
   "execution_count": null,
   "metadata": {},
   "outputs": [],
   "source": []
  }
 ],
 "metadata": {
  "kernelspec": {
   "display_name": "Python 3",
   "language": "python",
   "name": "python3"
  },
  "language_info": {
   "codemirror_mode": {
    "name": "ipython",
    "version": 3
   },
   "file_extension": ".py",
   "mimetype": "text/x-python",
   "name": "python",
   "nbconvert_exporter": "python",
   "pygments_lexer": "ipython3",
   "version": "3.7.6"
  }
 },
 "nbformat": 4,
 "nbformat_minor": 4
}
