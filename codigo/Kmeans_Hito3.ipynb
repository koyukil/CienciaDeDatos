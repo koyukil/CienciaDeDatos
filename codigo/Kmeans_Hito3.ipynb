{
 "cells": [
  {
   "cell_type": "code",
   "execution_count": 4,
   "metadata": {},
   "outputs": [],
   "source": [
    "%matplotlib inline\n",
    "import numpy as np\n",
    "import matplotlib.pyplot as plt\n",
    "import seaborn; \n",
    "from sklearn.linear_model import LinearRegression\n",
    "from scipy import stats\n",
    "import pylab as pl\n",
    "from sklearn.model_selection import train_test_split\n",
    "from sklearn.cluster import KMeans\n",
    "from fase2_funciones import *\n",
    "\n",
    "\n",
    "df_bd_preprocesada = pd.read_csv('BD/OnlineRetail_Preprocesada.csv', sep=',', encoding = 'unicode_escape')\n",
    "df_pivot = df_bd_preprocesada['InvoiceDate'].str.split(expand = True)\n",
    "df_pivot.rename(columns = {0: 'Fecha', 1: 'Hora'}, inplace=True)\n",
    "df_bd_preprocesada = df_bd_preprocesada.drop(columns =['Unnamed: 0','InvoiceDate'])\n",
    "df_bd_preprocesada = pd.concat([df_bd_preprocesada,df_pivot], axis = 1)\n",
    "df_bd_preprocesada['Monto'] = df_bd_preprocesada['UnitPrice'] * df_bd_preprocesada['Quantity']\n"
   ]
  },
  {
   "cell_type": "code",
   "execution_count": 41,
   "metadata": {},
   "outputs": [
    {
     "data": {
      "text/html": [
       "<div>\n",
       "<style scoped>\n",
       "    .dataframe tbody tr th:only-of-type {\n",
       "        vertical-align: middle;\n",
       "    }\n",
       "\n",
       "    .dataframe tbody tr th {\n",
       "        vertical-align: top;\n",
       "    }\n",
       "\n",
       "    .dataframe thead th {\n",
       "        text-align: right;\n",
       "    }\n",
       "</style>\n",
       "<table border=\"1\" class=\"dataframe\">\n",
       "  <thead>\n",
       "    <tr style=\"text-align: right;\">\n",
       "      <th></th>\n",
       "      <th>InvoiceNo</th>\n",
       "      <th>StockCode</th>\n",
       "      <th>Description</th>\n",
       "      <th>Quantity</th>\n",
       "      <th>UnitPrice</th>\n",
       "      <th>CustomerID</th>\n",
       "      <th>Country</th>\n",
       "      <th>Fecha</th>\n",
       "      <th>Hora</th>\n",
       "      <th>Monto</th>\n",
       "    </tr>\n",
       "  </thead>\n",
       "  <tbody>\n",
       "    <tr>\n",
       "      <th>0</th>\n",
       "      <td>536365</td>\n",
       "      <td>85123A</td>\n",
       "      <td>WHITE HANGING HEART T-LIGHT HOLDER</td>\n",
       "      <td>6</td>\n",
       "      <td>2.55</td>\n",
       "      <td>17850.0</td>\n",
       "      <td>United Kingdom</td>\n",
       "      <td>12/1/2010</td>\n",
       "      <td>8:26</td>\n",
       "      <td>15.30</td>\n",
       "    </tr>\n",
       "    <tr>\n",
       "      <th>1</th>\n",
       "      <td>536365</td>\n",
       "      <td>71053</td>\n",
       "      <td>WHITE METAL LANTERN</td>\n",
       "      <td>6</td>\n",
       "      <td>3.39</td>\n",
       "      <td>17850.0</td>\n",
       "      <td>United Kingdom</td>\n",
       "      <td>12/1/2010</td>\n",
       "      <td>8:26</td>\n",
       "      <td>20.34</td>\n",
       "    </tr>\n",
       "    <tr>\n",
       "      <th>2</th>\n",
       "      <td>536365</td>\n",
       "      <td>84406B</td>\n",
       "      <td>CREAM CUPID HEARTS COAT HANGER</td>\n",
       "      <td>8</td>\n",
       "      <td>2.75</td>\n",
       "      <td>17850.0</td>\n",
       "      <td>United Kingdom</td>\n",
       "      <td>12/1/2010</td>\n",
       "      <td>8:26</td>\n",
       "      <td>22.00</td>\n",
       "    </tr>\n",
       "    <tr>\n",
       "      <th>3</th>\n",
       "      <td>536365</td>\n",
       "      <td>84029G</td>\n",
       "      <td>KNITTED UNION FLAG HOT WATER BOTTLE</td>\n",
       "      <td>6</td>\n",
       "      <td>3.39</td>\n",
       "      <td>17850.0</td>\n",
       "      <td>United Kingdom</td>\n",
       "      <td>12/1/2010</td>\n",
       "      <td>8:26</td>\n",
       "      <td>20.34</td>\n",
       "    </tr>\n",
       "    <tr>\n",
       "      <th>4</th>\n",
       "      <td>536365</td>\n",
       "      <td>84029E</td>\n",
       "      <td>RED WOOLLY HOTTIE WHITE HEART.</td>\n",
       "      <td>6</td>\n",
       "      <td>3.39</td>\n",
       "      <td>17850.0</td>\n",
       "      <td>United Kingdom</td>\n",
       "      <td>12/1/2010</td>\n",
       "      <td>8:26</td>\n",
       "      <td>20.34</td>\n",
       "    </tr>\n",
       "    <tr>\n",
       "      <th>...</th>\n",
       "      <td>...</td>\n",
       "      <td>...</td>\n",
       "      <td>...</td>\n",
       "      <td>...</td>\n",
       "      <td>...</td>\n",
       "      <td>...</td>\n",
       "      <td>...</td>\n",
       "      <td>...</td>\n",
       "      <td>...</td>\n",
       "      <td>...</td>\n",
       "    </tr>\n",
       "    <tr>\n",
       "      <th>392727</th>\n",
       "      <td>581587</td>\n",
       "      <td>22613</td>\n",
       "      <td>PACK OF 20 SPACEBOY NAPKINS</td>\n",
       "      <td>12</td>\n",
       "      <td>0.85</td>\n",
       "      <td>12680.0</td>\n",
       "      <td>France</td>\n",
       "      <td>12/9/2011</td>\n",
       "      <td>12:50</td>\n",
       "      <td>10.20</td>\n",
       "    </tr>\n",
       "    <tr>\n",
       "      <th>392728</th>\n",
       "      <td>581587</td>\n",
       "      <td>22899</td>\n",
       "      <td>CHILDREN'S APRON DOLLY GIRL</td>\n",
       "      <td>6</td>\n",
       "      <td>2.10</td>\n",
       "      <td>12680.0</td>\n",
       "      <td>France</td>\n",
       "      <td>12/9/2011</td>\n",
       "      <td>12:50</td>\n",
       "      <td>12.60</td>\n",
       "    </tr>\n",
       "    <tr>\n",
       "      <th>392729</th>\n",
       "      <td>581587</td>\n",
       "      <td>23254</td>\n",
       "      <td>CHILDRENS CUTLERY DOLLY GIRL</td>\n",
       "      <td>4</td>\n",
       "      <td>4.15</td>\n",
       "      <td>12680.0</td>\n",
       "      <td>France</td>\n",
       "      <td>12/9/2011</td>\n",
       "      <td>12:50</td>\n",
       "      <td>16.60</td>\n",
       "    </tr>\n",
       "    <tr>\n",
       "      <th>392730</th>\n",
       "      <td>581587</td>\n",
       "      <td>23255</td>\n",
       "      <td>CHILDRENS CUTLERY CIRCUS PARADE</td>\n",
       "      <td>4</td>\n",
       "      <td>4.15</td>\n",
       "      <td>12680.0</td>\n",
       "      <td>France</td>\n",
       "      <td>12/9/2011</td>\n",
       "      <td>12:50</td>\n",
       "      <td>16.60</td>\n",
       "    </tr>\n",
       "    <tr>\n",
       "      <th>392731</th>\n",
       "      <td>581587</td>\n",
       "      <td>22138</td>\n",
       "      <td>BAKING SET 9 PIECE RETROSPOT</td>\n",
       "      <td>3</td>\n",
       "      <td>4.95</td>\n",
       "      <td>12680.0</td>\n",
       "      <td>France</td>\n",
       "      <td>12/9/2011</td>\n",
       "      <td>12:50</td>\n",
       "      <td>14.85</td>\n",
       "    </tr>\n",
       "  </tbody>\n",
       "</table>\n",
       "<p>392729 rows × 10 columns</p>\n",
       "</div>"
      ],
      "text/plain": [
       "        InvoiceNo StockCode                          Description  Quantity  \\\n",
       "0          536365    85123A   WHITE HANGING HEART T-LIGHT HOLDER         6   \n",
       "1          536365     71053                  WHITE METAL LANTERN         6   \n",
       "2          536365    84406B       CREAM CUPID HEARTS COAT HANGER         8   \n",
       "3          536365    84029G  KNITTED UNION FLAG HOT WATER BOTTLE         6   \n",
       "4          536365    84029E       RED WOOLLY HOTTIE WHITE HEART.         6   \n",
       "...           ...       ...                                  ...       ...   \n",
       "392727     581587     22613          PACK OF 20 SPACEBOY NAPKINS        12   \n",
       "392728     581587     22899         CHILDREN'S APRON DOLLY GIRL          6   \n",
       "392729     581587     23254        CHILDRENS CUTLERY DOLLY GIRL          4   \n",
       "392730     581587     23255      CHILDRENS CUTLERY CIRCUS PARADE         4   \n",
       "392731     581587     22138        BAKING SET 9 PIECE RETROSPOT          3   \n",
       "\n",
       "        UnitPrice  CustomerID         Country      Fecha   Hora  Monto  \n",
       "0            2.55     17850.0  United Kingdom  12/1/2010   8:26  15.30  \n",
       "1            3.39     17850.0  United Kingdom  12/1/2010   8:26  20.34  \n",
       "2            2.75     17850.0  United Kingdom  12/1/2010   8:26  22.00  \n",
       "3            3.39     17850.0  United Kingdom  12/1/2010   8:26  20.34  \n",
       "4            3.39     17850.0  United Kingdom  12/1/2010   8:26  20.34  \n",
       "...           ...         ...             ...        ...    ...    ...  \n",
       "392727       0.85     12680.0          France  12/9/2011  12:50  10.20  \n",
       "392728       2.10     12680.0          France  12/9/2011  12:50  12.60  \n",
       "392729       4.15     12680.0          France  12/9/2011  12:50  16.60  \n",
       "392730       4.15     12680.0          France  12/9/2011  12:50  16.60  \n",
       "392731       4.95     12680.0          France  12/9/2011  12:50  14.85  \n",
       "\n",
       "[392729 rows x 10 columns]"
      ]
     },
     "execution_count": 41,
     "metadata": {},
     "output_type": "execute_result"
    }
   ],
   "source": [
    "df_bd_preprocesada_new = df_bd_preprocesada[df_bd_preprocesada.Quantity <10000]\n",
    "#plt.scatter(df_bd_preprocesada_new['Quantity'],df_bd_preprocesada_new['Description'],s=50)\n",
    "\n",
    "#df_bd_preprocesada_new"
   ]
  },
  {
   "cell_type": "code",
   "execution_count": 76,
   "metadata": {},
   "outputs": [
    {
     "data": {
      "text/html": [
       "<div>\n",
       "<style scoped>\n",
       "    .dataframe tbody tr th:only-of-type {\n",
       "        vertical-align: middle;\n",
       "    }\n",
       "\n",
       "    .dataframe tbody tr th {\n",
       "        vertical-align: top;\n",
       "    }\n",
       "\n",
       "    .dataframe thead th {\n",
       "        text-align: right;\n",
       "    }\n",
       "</style>\n",
       "<table border=\"1\" class=\"dataframe\">\n",
       "  <thead>\n",
       "    <tr style=\"text-align: right;\">\n",
       "      <th></th>\n",
       "      <th>Quantity</th>\n",
       "      <th>UnitPrice</th>\n",
       "      <th>CustomerID</th>\n",
       "    </tr>\n",
       "  </thead>\n",
       "  <tbody>\n",
       "    <tr>\n",
       "      <th>0</th>\n",
       "      <td>0.001042</td>\n",
       "      <td>0.000313</td>\n",
       "      <td>0.926431</td>\n",
       "    </tr>\n",
       "    <tr>\n",
       "      <th>1</th>\n",
       "      <td>0.001042</td>\n",
       "      <td>0.000416</td>\n",
       "      <td>0.926431</td>\n",
       "    </tr>\n",
       "    <tr>\n",
       "      <th>2</th>\n",
       "      <td>0.001459</td>\n",
       "      <td>0.000338</td>\n",
       "      <td>0.926431</td>\n",
       "    </tr>\n",
       "    <tr>\n",
       "      <th>3</th>\n",
       "      <td>0.001042</td>\n",
       "      <td>0.000416</td>\n",
       "      <td>0.926431</td>\n",
       "    </tr>\n",
       "    <tr>\n",
       "      <th>4</th>\n",
       "      <td>0.001042</td>\n",
       "      <td>0.000416</td>\n",
       "      <td>0.926431</td>\n",
       "    </tr>\n",
       "    <tr>\n",
       "      <th>...</th>\n",
       "      <td>...</td>\n",
       "      <td>...</td>\n",
       "      <td>...</td>\n",
       "    </tr>\n",
       "    <tr>\n",
       "      <th>392727</th>\n",
       "      <td>0.002292</td>\n",
       "      <td>0.000104</td>\n",
       "      <td>0.056061</td>\n",
       "    </tr>\n",
       "    <tr>\n",
       "      <th>392728</th>\n",
       "      <td>0.001042</td>\n",
       "      <td>0.000258</td>\n",
       "      <td>0.056061</td>\n",
       "    </tr>\n",
       "    <tr>\n",
       "      <th>392729</th>\n",
       "      <td>0.000625</td>\n",
       "      <td>0.000510</td>\n",
       "      <td>0.056061</td>\n",
       "    </tr>\n",
       "    <tr>\n",
       "      <th>392730</th>\n",
       "      <td>0.000625</td>\n",
       "      <td>0.000510</td>\n",
       "      <td>0.056061</td>\n",
       "    </tr>\n",
       "    <tr>\n",
       "      <th>392731</th>\n",
       "      <td>0.000417</td>\n",
       "      <td>0.000608</td>\n",
       "      <td>0.056061</td>\n",
       "    </tr>\n",
       "  </tbody>\n",
       "</table>\n",
       "<p>392729 rows × 3 columns</p>\n",
       "</div>"
      ],
      "text/plain": [
       "        Quantity  UnitPrice  CustomerID\n",
       "0       0.001042   0.000313    0.926431\n",
       "1       0.001042   0.000416    0.926431\n",
       "2       0.001459   0.000338    0.926431\n",
       "3       0.001042   0.000416    0.926431\n",
       "4       0.001042   0.000416    0.926431\n",
       "...          ...        ...         ...\n",
       "392727  0.002292   0.000104    0.056061\n",
       "392728  0.001042   0.000258    0.056061\n",
       "392729  0.000625   0.000510    0.056061\n",
       "392730  0.000625   0.000510    0.056061\n",
       "392731  0.000417   0.000608    0.056061\n",
       "\n",
       "[392729 rows x 3 columns]"
      ]
     },
     "execution_count": 76,
     "metadata": {},
     "output_type": "execute_result"
    }
   ],
   "source": [
    "df_bd_aux=df_bd_preprocesada_new.drop(['StockCode','Monto','Description','Country','Fecha','Hora','InvoiceNo'],axis=1)\n",
    "df_bd_Normalizada = (df_bd_aux-df_bd_aux.min())/(df_bd_aux.max()-df_bd_aux.min())\n",
    "#df_bd_Normalizada"
   ]
  },
  {
   "cell_type": "code",
   "execution_count": 77,
   "metadata": {},
   "outputs": [
    {
     "name": "stdout",
     "output_type": "stream",
     "text": [
      "['Quantity', 'UnitPrice', 'CustomerID']\n"
     ]
    }
   ],
   "source": [
    "features = list(df_bd_Normalizada.columns)[:]\n",
    "print(features)"
   ]
  },
  {
   "cell_type": "code",
   "execution_count": 80,
   "metadata": {},
   "outputs": [],
   "source": [
    "BD_atrib = df_bd_Normalizada[features[:-1]]\n",
    "BD_clase = df_bd_Normalizada['CustomerID']\n",
    "X_train, X_test, Y_train, Y_test = train_test_split(BD_atrib,\n",
    "                                                    BD_clase,\n",
    "                                                    test_size=0.2,\n",
    "                                                    random_state =0)\n"
   ]
  },
  {
   "cell_type": "code",
   "execution_count": 81,
   "metadata": {},
   "outputs": [
    {
     "name": "stdout",
     "output_type": "stream",
     "text": [
      "Reduced dataset shape: (314183, 2)\n"
     ]
    }
   ],
   "source": [
    "from sklearn.decomposition import PCA\n",
    "pca = PCA(n_components=2)\n",
    "pca.fit(X_train)\n",
    "X_reducido = pca.transform(X_train)\n",
    "\n",
    "print(\"Reduced dataset shape:\", X_reducido.shape)"
   ]
  },
  {
   "cell_type": "code",
   "execution_count": 87,
   "metadata": {},
   "outputs": [
    {
     "data": {
      "image/png": "[encoded data removed]",
      "text/plain": [
       "<Figure size 432x288 with 1 Axes>"
      ]
     },
     "metadata": {
      "needs_background": "light"
     },
     "output_type": "display_data"
    }
   ],
   "source": [
    "wcss = []\n",
    "\n",
    "for i in range (1,11):\n",
    "    kmeans = KMeans(n_clusters = i, max_iter=300)\n",
    "    kmeans.fit(X_train)\n",
    "    wcss.append(kmeans.inertia_)\n",
    "    \n",
    "plt.plot(range(1,11),wcss)\n",
    "plt.title(\"Codo de Jambu\")\n",
    "plt.xlabel(\"numero de Clusters\")\n",
    "plt.ylabel(\"WCSS\")\n",
    "plt.show()"
   ]
  },
  {
   "cell_type": "code",
   "execution_count": 88,
   "metadata": {},
   "outputs": [],
   "source": [
    "clustering = KMeans(n_clusters = 4, max_iter=300)\n",
    "clustering.fit(X_train)\n",
    "centroides = clustering.cluster_centers_\n",
    "etiquetas = clustering.labels_\n",
    "y_pred = clustering.predict(X_train)"
   ]
  },
  {
   "cell_type": "code",
   "execution_count": 89,
   "metadata": {},
   "outputs": [
    {
     "name": "stdout",
     "output_type": "stream",
     "text": [
      "['Quantity', 'UnitPrice', 'CustomerID']\n"
     ]
    },
    {
     "data": {
      "image/png": "[encoded data removed]",
      "text/plain": [
       "<Figure size 432x432 with 1 Axes>"
      ]
     },
     "metadata": {
      "needs_background": "light"
     },
     "output_type": "display_data"
    }
   ],
   "source": [
    "plt.figure(figsize=(6,6))\n",
    "pl.scatter(X_reducido[:,0], X_reducido[:,1], c=y_pred,\n",
    "           cmap='RdYlBu'); \n",
    "pl.scatter(centroides[:, 0], centroides[:, 1], c='red',s=50)\n",
    "print(features)\n",
    "plt.title('Clasificacion K-Means ')\n",
    "plt.show()"
   ]
  },
  {
   "cell_type": "code",
   "execution_count": 90,
   "metadata": {},
   "outputs": [
    {
     "name": "stdout",
     "output_type": "stream",
     "text": [
      "Meaning of the 2 components:\n",
      "1.000 x Quantity + -0.006 x UnitPrice\n",
      "0.006 x Quantity + 1.000 x UnitPrice\n"
     ]
    }
   ],
   "source": [
    "print(\"Meaning of the 2 components:\")\n",
    "for component in pca.components_:\n",
    "    print(\" + \".join(\"%.3f x %s\" % (value, name)\n",
    "                     for value, name in zip(component,\n",
    "                                            features)))"
   ]
  },
  {
   "cell_type": "code",
   "execution_count": 114,
   "metadata": {},
   "outputs": [
    {
     "data": {
      "image/png": "[encoded data removed]",
      "text/plain": [
       "<Figure size 320x320 with 1 Axes>"
      ]
     },
     "metadata": {
      "needs_background": "light"
     },
     "output_type": "display_data"
    },
    {
     "data": {
      "image/png": "[encoded data removed]",
      "text/plain": [
       "<Figure size 320x320 with 1 Axes>"
      ]
     },
     "metadata": {
      "needs_background": "light"
     },
     "output_type": "display_data"
    },
    {
     "data": {
      "image/png": "[encoded data removed]",
      "text/plain": [
       "<Figure size 320x320 with 1 Axes>"
      ]
     },
     "metadata": {
      "needs_background": "light"
     },
     "output_type": "display_data"
    },
    {
     "data": {
      "image/png": "[encoded data removed]",
      "text/plain": [
       "<Figure size 320x320 with 1 Axes>"
      ]
     },
     "metadata": {
      "needs_background": "light"
     },
     "output_type": "display_data"
    },
    {
     "data": {
      "image/png": "[encoded data removed]",
      "text/plain": [
       "<Figure size 320x320 with 1 Axes>"
      ]
     },
     "metadata": {
      "needs_background": "light"
     },
     "output_type": "display_data"
    }
   ],
   "source": [
    "for i in range (1,6):\n",
    "    fig = plt.figure(figsize = (4,4),dpi=80)\n",
    "    plt.subplot(2,3,i)\n",
    "    clustering = KMeans(n_clusters = i*2, max_iter=300)\n",
    "    clustering.fit(X_train)\n",
    "    y_pred = clustering.predict(X_train)\n",
    "    pl.scatter(X_reducido[:, 0], X_reducido[:, 1], c=y_pred,\n",
    "           cmap='RdYlBu'); \n",
    "    n_cluster = i*2\n",
    "    plt.title('N_Clust= %i' %n_cluster)"
   ]
  },
  {
   "cell_type": "code",
   "execution_count": null,
   "metadata": {},
   "outputs": [],
   "source": []
  }
 ],
 "metadata": {
  "kernelspec": {
   "display_name": "Python 3",
   "language": "python",
   "name": "python3"
  },
  "language_info": {
   "codemirror_mode": {
    "name": "ipython",
    "version": 3
   },
   "file_extension": ".py",
   "mimetype": "text/x-python",
   "name": "python",
   "nbconvert_exporter": "python",
   "pygments_lexer": "ipython3",
   "version": "3.7.6"
  }
 },
 "nbformat": 4,
 "nbformat_minor": 4
}
