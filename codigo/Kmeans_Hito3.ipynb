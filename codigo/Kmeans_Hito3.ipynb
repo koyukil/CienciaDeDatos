{
 "cells": [
  {
   "cell_type": "code",
   "execution_count": 135,
   "metadata": {},
   "outputs": [],
   "source": [
    "%matplotlib inline\n",
    "import numpy as np\n",
    "import matplotlib.pyplot as plt\n",
    "import seaborn; \n",
    "from sklearn.linear_model import LinearRegression\n",
    "from scipy import stats\n",
    "import pylab as pl\n",
    "from sklearn.model_selection import train_test_split\n",
    "from sklearn.cluster import KMeans\n",
    "from fase2_funciones import *\n",
    "\n",
    "\n",
    "df_bd_preprocesada = pd.read_csv('BD/OnlineRetail_Preprocesada.csv', sep=',', encoding = 'unicode_escape')\n",
    "df_pivot = df_bd_preprocesada['InvoiceDate'].str.split(expand = True)\n",
    "df_pivot.rename(columns = {0: 'Fecha', 1: 'Hora'}, inplace=True)\n",
    "df_bd_preprocesada = df_bd_preprocesada.drop(columns =['Unnamed: 0','InvoiceDate'])\n",
    "df_bd_preprocesada = pd.concat([df_bd_preprocesada,df_pivot], axis = 1)\n",
    "df_bd_preprocesada['Monto'] = df_bd_preprocesada['UnitPrice'] * df_bd_preprocesada['Quantity']\n"
   ]
  },
  {
   "cell_type": "code",
   "execution_count": 139,
   "metadata": {},
   "outputs": [
    {
     "data": {
      "text/plain": [
       "<matplotlib.collections.PathCollection at 0x28a95458f08>"
      ]
     },
     "execution_count": 139,
     "metadata": {},
     "output_type": "execute_result"
    },
    {
     "data": {
      "image/png": "[encoded data removed]",
      "text/plain": [
       "<Figure size 432x288 with 1 Axes>"
      ]
     },
     "metadata": {
      "needs_background": "light"
     },
     "output_type": "display_data"
    }
   ],
   "source": [
    "df_bd_preprocesada_new = df_bd_preprocesada[df_bd_preprocesada.Quantity <10000]\n",
    "plt.scatter(df_bd_preprocesada_new['Quantity'],df_bd_preprocesada_new['Description'],s=50)"
   ]
  },
  {
   "cell_type": "code",
   "execution_count": 140,
   "metadata": {},
   "outputs": [
    {
     "data": {
      "text/html": [
       "<div>\n",
       "<style scoped>\n",
       "    .dataframe tbody tr th:only-of-type {\n",
       "        vertical-align: middle;\n",
       "    }\n",
       "\n",
       "    .dataframe tbody tr th {\n",
       "        vertical-align: top;\n",
       "    }\n",
       "\n",
       "    .dataframe thead th {\n",
       "        text-align: right;\n",
       "    }\n",
       "</style>\n",
       "<table border=\"1\" class=\"dataframe\">\n",
       "  <thead>\n",
       "    <tr style=\"text-align: right;\">\n",
       "      <th></th>\n",
       "      <th>Quantity</th>\n",
       "      <th>UnitPrice</th>\n",
       "      <th>CustomerID</th>\n",
       "    </tr>\n",
       "  </thead>\n",
       "  <tbody>\n",
       "    <tr>\n",
       "      <th>0</th>\n",
       "      <td>0.001042</td>\n",
       "      <td>0.000313</td>\n",
       "      <td>0.926431</td>\n",
       "    </tr>\n",
       "    <tr>\n",
       "      <th>1</th>\n",
       "      <td>0.001042</td>\n",
       "      <td>0.000416</td>\n",
       "      <td>0.926431</td>\n",
       "    </tr>\n",
       "    <tr>\n",
       "      <th>2</th>\n",
       "      <td>0.001459</td>\n",
       "      <td>0.000338</td>\n",
       "      <td>0.926431</td>\n",
       "    </tr>\n",
       "    <tr>\n",
       "      <th>3</th>\n",
       "      <td>0.001042</td>\n",
       "      <td>0.000416</td>\n",
       "      <td>0.926431</td>\n",
       "    </tr>\n",
       "    <tr>\n",
       "      <th>4</th>\n",
       "      <td>0.001042</td>\n",
       "      <td>0.000416</td>\n",
       "      <td>0.926431</td>\n",
       "    </tr>\n",
       "    <tr>\n",
       "      <th>...</th>\n",
       "      <td>...</td>\n",
       "      <td>...</td>\n",
       "      <td>...</td>\n",
       "    </tr>\n",
       "    <tr>\n",
       "      <th>392727</th>\n",
       "      <td>0.002292</td>\n",
       "      <td>0.000104</td>\n",
       "      <td>0.056061</td>\n",
       "    </tr>\n",
       "    <tr>\n",
       "      <th>392728</th>\n",
       "      <td>0.001042</td>\n",
       "      <td>0.000258</td>\n",
       "      <td>0.056061</td>\n",
       "    </tr>\n",
       "    <tr>\n",
       "      <th>392729</th>\n",
       "      <td>0.000625</td>\n",
       "      <td>0.000510</td>\n",
       "      <td>0.056061</td>\n",
       "    </tr>\n",
       "    <tr>\n",
       "      <th>392730</th>\n",
       "      <td>0.000625</td>\n",
       "      <td>0.000510</td>\n",
       "      <td>0.056061</td>\n",
       "    </tr>\n",
       "    <tr>\n",
       "      <th>392731</th>\n",
       "      <td>0.000417</td>\n",
       "      <td>0.000608</td>\n",
       "      <td>0.056061</td>\n",
       "    </tr>\n",
       "  </tbody>\n",
       "</table>\n",
       "<p>392729 rows × 3 columns</p>\n",
       "</div>"
      ],
      "text/plain": [
       "        Quantity  UnitPrice  CustomerID\n",
       "0       0.001042   0.000313    0.926431\n",
       "1       0.001042   0.000416    0.926431\n",
       "2       0.001459   0.000338    0.926431\n",
       "3       0.001042   0.000416    0.926431\n",
       "4       0.001042   0.000416    0.926431\n",
       "...          ...        ...         ...\n",
       "392727  0.002292   0.000104    0.056061\n",
       "392728  0.001042   0.000258    0.056061\n",
       "392729  0.000625   0.000510    0.056061\n",
       "392730  0.000625   0.000510    0.056061\n",
       "392731  0.000417   0.000608    0.056061\n",
       "\n",
       "[392729 rows x 3 columns]"
      ]
     },
     "execution_count": 140,
     "metadata": {},
     "output_type": "execute_result"
    }
   ],
   "source": [
    "df_bd_aux=df_bd_preprocesada_new.drop(['InvoiceNo','StockCode','Description','Country','Fecha','Hora','Monto'],axis=1)\n",
    "df_bd_Normalizada = (df_bd_aux-df_bd_aux.min())/(df_bd_aux.max()-df_bd_aux.min())\n",
    "df_bd_Normalizada"
   ]
  },
  {
   "cell_type": "code",
   "execution_count": 141,
   "metadata": {},
   "outputs": [
    {
     "name": "stdout",
     "output_type": "stream",
     "text": [
      "['Quantity', 'UnitPrice', 'CustomerID']\n"
     ]
    }
   ],
   "source": [
    "features = list(df_bd_Normalizada.columns)[:]\n",
    "print(features)"
   ]
  },
  {
   "cell_type": "code",
   "execution_count": 142,
   "metadata": {},
   "outputs": [],
   "source": [
    "BD_atrib = df_bd_Normalizada[features[:-1]]\n",
    "BD_clase = df_bd_Normalizada['CustomerID']\n",
    "X_train, X_test, Y_train, Y_test = train_test_split(BD_atrib,\n",
    "                                                    BD_clase,\n",
    "                                                    test_size=0.2,\n",
    "                                                    random_state =0)\n"
   ]
  },
  {
   "cell_type": "code",
   "execution_count": 143,
   "metadata": {},
   "outputs": [
    {
     "name": "stdout",
     "output_type": "stream",
     "text": [
      "Reduced dataset shape: (314183, 2)\n"
     ]
    }
   ],
   "source": [
    "from sklearn.decomposition import PCA #analisis de componentes principales\n",
    "pca = PCA(n_components=2)\n",
    "pca.fit(X_train)\n",
    "X_reducido = pca.transform(X_train)\n",
    "\n",
    "print(\"Reduced dataset shape:\", X_reducido.shape)"
   ]
  },
  {
   "cell_type": "code",
   "execution_count": 144,
   "metadata": {},
   "outputs": [],
   "source": [
    "clustering = KMeans(n_clusters = 3, max_iter=300)\n",
    "clustering.fit(X_train)\n",
    "centroides = clustering.cluster_centers_\n",
    "etiquetas = clustering.labels_\n",
    "y_pred = clustering.predict(X_train)"
   ]
  },
  {
   "cell_type": "code",
   "execution_count": 145,
   "metadata": {},
   "outputs": [
    {
     "name": "stdout",
     "output_type": "stream",
     "text": [
      "['Quantity', 'UnitPrice', 'CustomerID']\n"
     ]
    },
    {
     "data": {
      "image/png": "[encoded data removed]",
      "text/plain": [
       "<Figure size 864x864 with 1 Axes>"
      ]
     },
     "metadata": {
      "needs_background": "light"
     },
     "output_type": "display_data"
    }
   ],
   "source": [
    "plt.figure(figsize=(12,12))\n",
    "pl.scatter(X_reducido[:,0], X_reducido[:,1], c=y_pred,\n",
    "           cmap='RdYlBu'); \n",
    "pl.scatter(centroides[:, 0], centroides[:, 1], c='red',s=50)\n",
    "print(features)\n",
    "plt.title('Clasificacion K-Means ')\n",
    "plt.show()"
   ]
  },
  {
   "cell_type": "code",
   "execution_count": 146,
   "metadata": {},
   "outputs": [
    {
     "name": "stdout",
     "output_type": "stream",
     "text": [
      "Meaning of the 2 components:\n",
      "1.000 x Quantity + -0.006 x UnitPrice\n",
      "0.006 x Quantity + 1.000 x UnitPrice\n"
     ]
    }
   ],
   "source": [
    "print(\"Meaning of the 2 components:\")\n",
    "for component in pca.components_:\n",
    "    print(\" + \".join(\"%.3f x %s\" % (value, name)\n",
    "                     for value, name in zip(component,\n",
    "                                            features)))"
   ]
  },
  {
   "cell_type": "code",
   "execution_count": 147,
   "metadata": {},
   "outputs": [
    {
     "data": {
      "image/png": "[encoded data removed]",
      "text/plain": [
       "<Figure size 432x288 with 1 Axes>"
      ]
     },
     "metadata": {
      "needs_background": "light"
     },
     "output_type": "display_data"
    }
   ],
   "source": [
    "from sklearn.cluster import KMeans\n",
    "k_means = KMeans(n_clusters=3, random_state=5, init='random') \n",
    "# Seteo de parametros y asignacion de numero aleatorio semilla para centros iniciales\n",
    "\n",
    "k_means.fit(X_train) #minimiza promedio de distancias de datos a los K centros (means) mas cercanos\n",
    "y_pred = k_means.predict(X_train) #Ojo se aplica a data original\n",
    "\n",
    "pl.scatter(X_reducido[:, 0], X_reducido[:, 1], c=y_pred,\n",
    "           cmap='RdYlBu'); #En este caso, la data que originalmente es 4D se representa en 2D por motivo de visualizacion."
   ]
  },
  {
   "cell_type": "code",
   "execution_count": null,
   "metadata": {},
   "outputs": [],
   "source": []
  }
 ],
 "metadata": {
  "kernelspec": {
   "display_name": "Python 3",
   "language": "python",
   "name": "python3"
  },
  "language_info": {
   "codemirror_mode": {
    "name": "ipython",
    "version": 3
   },
   "file_extension": ".py",
   "mimetype": "text/x-python",
   "name": "python",
   "nbconvert_exporter": "python",
   "pygments_lexer": "ipython3",
   "version": "3.7.6"
  }
 },
 "nbformat": 4,
 "nbformat_minor": 4
}
