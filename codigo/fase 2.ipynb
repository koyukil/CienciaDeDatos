{
 "cells": [
  {
   "cell_type": "code",
   "execution_count": 1,
   "metadata": {},
   "outputs": [],
   "source": [
    "from fase2_funciones import *\n",
    "from Apriori import *\n",
    "import os\n",
    "import subprocess\n",
    "\n",
    "df_bd_preprocesada = pd.read_csv('BD/OnlineRetail_Preprocesada.csv', sep=',', encoding = 'unicode_escape')\n",
    "df_pivot = df_bd_preprocesada['InvoiceDate'].str.split(expand = True)\n",
    "df_pivot.rename(columns = {0: 'Fecha', 1: 'Hora'}, inplace=True)\n",
    "df_bd_preprocesada = df_bd_preprocesada.drop(columns =['Unnamed: 0','InvoiceDate'])\n",
    "df_bd_preprocesada = pd.concat([df_bd_preprocesada,df_pivot], axis = 1)\n",
    "df_bd_preprocesada['Monto'] = df_bd_preprocesada['UnitPrice'] * df_bd_preprocesada['Quantity']"
   ]
  },
  {
   "cell_type": "code",
   "execution_count": 2,
   "metadata": {},
   "outputs": [
    {
     "name": "stdout",
     "output_type": "stream",
     "text": [
      "\n",
      "-----------------------Articulos/Libras promedio-------------------------------\n",
      " \n",
      "El promedio de articulos por compra es  159.54274541531822 \n",
      "\n",
      "------------------------------------------------------\n",
      " \n",
      "El promedio de libras gastadas por compra es  293.6456461704423 \n",
      "\n",
      "---------------------------Clasificación de clientes ---------------------------\n",
      " \n",
      "Cantidad total de clientes 4339\n",
      "Cantidad de clientes premium 872\n",
      "Cantidad de clientes normales 3467\n",
      "\n",
      "---------------------Horas de mayor/menor transacciones ---------------------------------\n",
      " \n",
      "la hora donde más se compra es 12 horas\n",
      "la hora donde menos se compra es 6 horas\n"
     ]
    }
   ],
   "source": [
    "#--------------------Llamado a funciones ------------------\n",
    "articulos_libras_promedio (df_bd_preprocesada)\n",
    "grupo_cliente(df_bd_preprocesada)\n",
    "numero_transacciones(df_bd_preprocesada)"
   ]
  },
  {
   "cell_type": "code",
   "execution_count": 3,
   "metadata": {},
   "outputs": [
    {
     "name": "stdout",
     "output_type": "stream",
     "text": [
      "\n",
      "Aplicando algoritmo A-priori... \n",
      "\n",
      "\n",
      "---------------top 20 reglas  -----------------\n",
      "frozenset({' ', 'FANCY FONT BIRTHDAY CARD'})\n",
      "frozenset({' BACK DOOR ', 'KEY FOB '})\n",
      "frozenset({'KEY FOB ', ' SHED'})\n",
      "frozenset({'ALARM CLOCK BAKELIKE GREEN', 'ALARM CLOCK BAKELIKE CHOCOLATE'})\n",
      "frozenset({'ALARM CLOCK BAKELIKE RED ', 'ALARM CLOCK BAKELIKE CHOCOLATE'})\n",
      "frozenset({'ALARM CLOCK BAKELIKE ORANGE', 'ALARM CLOCK BAKELIKE GREEN'})\n",
      "frozenset({'ALARM CLOCK BAKELIKE GREEN', 'ALARM CLOCK BAKELIKE RED '})\n",
      "frozenset({'ALARM CLOCK BAKELIKE RED ', 'ALARM CLOCK BAKELIKE IVORY'})\n",
      "frozenset({'ALARM CLOCK BAKELIKE ORANGE', 'ALARM CLOCK BAKELIKE RED '})\n",
      "frozenset({'ALARM CLOCK BAKELIKE PINK', 'ALARM CLOCK BAKELIKE RED '})\n",
      "frozenset({'PAINTED METAL PEARS ASSORTED', 'ASSORTED COLOUR BIRD ORNAMENT'})\n",
      "frozenset({'BAKING SET SPACEBOY DESIGN', 'BAKING SET 9 PIECE RETROSPOT '})\n",
      "frozenset({'TOILET METAL SIGN', 'BATHROOM METAL SIGN'})\n",
      "frozenset({'PINK HAPPY BIRTHDAY BUNTING', 'BLUE HAPPY BIRTHDAY BUNTING'})\n",
      "frozenset({'RED STRIPE CERAMIC DRAWER KNOB', 'BLUE STRIPE CERAMIC DRAWER KNOB'})\n",
      "frozenset({'WHITE HANGING HEART T-LIGHT HOLDER', 'CANDLEHOLDER PINK HANGING HEART'})\n",
      "frozenset({'CHARLOTTE BAG PINK POLKADOT', 'RED RETROSPOT CHARLOTTE BAG'})\n",
      "frozenset({'CHILDRENS CUTLERY DOLLY GIRL ', 'CHILDRENS CUTLERY SPACEBOY '})\n",
      "frozenset({'CHRISTMAS CRAFT LITTLE FRIENDS', 'CHRISTMAS CRAFT WHITE FAIRY '})\n",
      "frozenset({'SET 3 RETROSPOT TEA', 'COFFEE'})\n",
      "frozenset({'SUGAR', 'COFFEE'})\n",
      "\n",
      "----------------Oferta Diaria -------------------------\n",
      " \n",
      " la oferta de hoy es  ['KEY FOB ', ' SHED'] \n",
      "\n",
      "----------------Oferta Diaria -------------------------\n",
      " \n",
      "Ejecución del Algoritmo A-priori terminada.\n",
      "Presione una tecla para continuar...\n"
     ]
    }
   ],
   "source": [
    "#--------------------Se ejecuta el archivo Apriori.py-------------\n",
    "a_priori(df_bd_preprocesada)"
   ]
  },
  {
   "cell_type": "code",
   "execution_count": null,
   "metadata": {},
   "outputs": [],
   "source": []
  }
 ],
 "metadata": {
  "kernelspec": {
   "display_name": "Python 3",
   "language": "python",
   "name": "python3"
  },
  "language_info": {
   "codemirror_mode": {
    "name": "ipython",
    "version": 3
   },
   "file_extension": ".py",
   "mimetype": "text/x-python",
   "name": "python",
   "nbconvert_exporter": "python",
   "pygments_lexer": "ipython3",
   "version": "3.8.3"
  }
 },
 "nbformat": 4,
 "nbformat_minor": 4
}
