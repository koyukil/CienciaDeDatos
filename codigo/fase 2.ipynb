{
 "cells": [
  {
   "cell_type": "code",
   "execution_count": 1,
   "metadata": {},
   "outputs": [],
   "source": [
    "from fase2_funciones import *\n",
    "from Apriori import *\n",
    "import os\n",
    "import subprocess\n",
    "\n",
    "df_bd_preprocesada = pd.read_csv('BD/OnlineRetail_Preprocesada.csv', sep=',', encoding = 'unicode_escape')\n",
    "df_pivot = df_bd_preprocesada['InvoiceDate'].str.split(expand = True)\n",
    "df_pivot.rename(columns = {0: 'Fecha', 1: 'Hora'}, inplace=True)\n",
    "df_bd_preprocesada = df_bd_preprocesada.drop(columns =['Unnamed: 0','InvoiceDate'])\n",
    "df_bd_preprocesada = pd.concat([df_bd_preprocesada,df_pivot], axis = 1)\n",
    "df_bd_preprocesada['Monto'] = df_bd_preprocesada['UnitPrice'] * df_bd_preprocesada['Quantity']"
   ]
  },
  {
   "cell_type": "code",
   "execution_count": 12,
   "metadata": {
    "scrolled": true
   },
   "outputs": [
    {
     "name": "stdout",
     "output_type": "stream",
     "text": [
      "\n",
      "-----------------------Articulos/Libras promedio-------------------------------\n",
      " \n",
      "El promedio de articulos por compra es  159.54274541531822 \n",
      "\n",
      "------------------------------------------------------\n",
      " \n",
      "El promedio de libras gastadas por compra es  293.6456461704423 \n",
      "\n",
      "---------------------------Clasificación de clientes ---------------------------\n",
      " \n",
      "Cantidad total de clientes 4339\n",
      "Cantidad de clientes premium 872\n",
      "Cantidad de clientes normales 3467\n",
      "\n",
      "---------------------Horas de mayor/menor transacciones ---------------------------------\n",
      " \n",
      "la hora donde más se compra es 12 horas\n"
     ]
    },
    {
     "ename": "AttributeError",
     "evalue": "'int' object has no attribute 'item'",
     "output_type": "error",
     "traceback": [
      "\u001b[1;31m---------------------------------------------------------------------------\u001b[0m",
      "\u001b[1;31mAttributeError\u001b[0m                            Traceback (most recent call last)",
      "\u001b[1;32m<ipython-input-12-05acaa3aca17>\u001b[0m in \u001b[0;36m<module>\u001b[1;34m\u001b[0m\n\u001b[0;32m      2\u001b[0m \u001b[0marticulos_libras_promedio\u001b[0m \u001b[1;33m(\u001b[0m\u001b[0mdf_bd_preprocesada\u001b[0m\u001b[1;33m)\u001b[0m\u001b[1;33m\u001b[0m\u001b[1;33m\u001b[0m\u001b[0m\n\u001b[0;32m      3\u001b[0m \u001b[0mgrupo_cliente\u001b[0m\u001b[1;33m(\u001b[0m\u001b[0mdf_bd_preprocesada\u001b[0m\u001b[1;33m)\u001b[0m\u001b[1;33m\u001b[0m\u001b[1;33m\u001b[0m\u001b[0m\n\u001b[1;32m----> 4\u001b[1;33m \u001b[0mnumero_transacciones\u001b[0m\u001b[1;33m(\u001b[0m\u001b[0mdf_bd_preprocesada\u001b[0m\u001b[1;33m)\u001b[0m\u001b[1;33m\u001b[0m\u001b[1;33m\u001b[0m\u001b[0m\n\u001b[0m",
      "\u001b[1;32m~\\Documents\\GitHub\\Ciencia-de-datos---Proyecto\\codigo\\fase2_funciones.py\u001b[0m in \u001b[0;36mnumero_transacciones\u001b[1;34m(df_bd_preprocesada)\u001b[0m\n\u001b[0;32m     53\u001b[0m     \u001b[0mdf_pivot\u001b[0m \u001b[1;33m=\u001b[0m \u001b[0mdf_pivot\u001b[0m\u001b[1;33m.\u001b[0m\u001b[0mgroupby\u001b[0m\u001b[1;33m(\u001b[0m\u001b[1;33m[\u001b[0m\u001b[1;36m0\u001b[0m\u001b[1;33m]\u001b[0m\u001b[1;33m)\u001b[0m\u001b[1;33m.\u001b[0m\u001b[0mcount\u001b[0m\u001b[1;33m(\u001b[0m\u001b[1;33m)\u001b[0m\u001b[1;33m\u001b[0m\u001b[1;33m\u001b[0m\u001b[0m\n\u001b[0;32m     54\u001b[0m     \u001b[0mdf_pivot\u001b[0m\u001b[1;33m=\u001b[0m\u001b[0mdf_pivot\u001b[0m\u001b[1;33m.\u001b[0m\u001b[0mreset_index\u001b[0m\u001b[1;33m(\u001b[0m\u001b[1;33m)\u001b[0m\u001b[1;33m\u001b[0m\u001b[1;33m\u001b[0m\u001b[0m\n\u001b[1;32m---> 55\u001b[1;33m     \u001b[0mvalorMin\u001b[0m \u001b[1;33m=\u001b[0m \u001b[0mdf_pivot\u001b[0m\u001b[1;33m[\u001b[0m\u001b[1;36m1\u001b[0m\u001b[1;33m]\u001b[0m\u001b[1;33m.\u001b[0m\u001b[0mmin\u001b[0m\u001b[1;33m(\u001b[0m\u001b[1;33m)\u001b[0m\u001b[1;33m.\u001b[0m\u001b[0mitem\u001b[0m\u001b[1;33m(\u001b[0m\u001b[1;33m)\u001b[0m \u001b[1;31m#-- Se define valor minimo de transacciones\u001b[0m\u001b[1;33m\u001b[0m\u001b[1;33m\u001b[0m\u001b[0m\n\u001b[0m\u001b[0;32m     56\u001b[0m     \u001b[0mmin\u001b[0m \u001b[1;33m=\u001b[0m \u001b[1;36m0\u001b[0m\u001b[1;33m\u001b[0m\u001b[1;33m\u001b[0m\u001b[0m\n\u001b[0;32m     57\u001b[0m     \u001b[1;32mfor\u001b[0m \u001b[0mi\u001b[0m \u001b[1;32min\u001b[0m \u001b[0mrange\u001b[0m\u001b[1;33m(\u001b[0m\u001b[1;36m0\u001b[0m\u001b[1;33m,\u001b[0m \u001b[0mlen\u001b[0m\u001b[1;33m(\u001b[0m\u001b[0mdf_pivot\u001b[0m\u001b[1;33m)\u001b[0m\u001b[1;33m)\u001b[0m\u001b[1;33m:\u001b[0m \u001b[1;31m#--- Se realiza comparación para saber hora de minimás transacciones\u001b[0m\u001b[1;33m\u001b[0m\u001b[1;33m\u001b[0m\u001b[0m\n",
      "\u001b[1;31mAttributeError\u001b[0m: 'int' object has no attribute 'item'"
     ]
    }
   ],
   "source": [
    "#--------------------Llamado a funciones ------------------\n",
    "articulos_libras_promedio (df_bd_preprocesada)\n",
    "grupo_cliente(df_bd_preprocesada)\n",
    "numero_transacciones(df_bd_preprocesada)"
   ]
  },
  {
   "cell_type": "markdown",
   "metadata": {},
   "source": [
    "#--------------------Se ejecuta el archivo Apriori.py-------------"
   ]
  },
  {
   "cell_type": "code",
   "execution_count": 2,
   "metadata": {},
   "outputs": [
    {
     "name": "stdout",
     "output_type": "stream",
     "text": [
      "Soporte:   0.01 \n",
      "\n",
      "Confianza:   0.6 \n",
      "\n",
      "\n",
      "Aplicando algoritmo A-priori... \n",
      "\n",
      "\n",
      "---------------top 20 reglas  -----------------\n",
      "frozenset({'FANCY FONT BIRTHDAY CARD', ' '})\n",
      "frozenset({'KEY FOB ', ' BACK DOOR '})\n",
      "frozenset({'KEY FOB ', ' SHED'})\n",
      "frozenset({'ALARM CLOCK BAKELIKE CHOCOLATE', 'ALARM CLOCK BAKELIKE GREEN'})\n",
      "frozenset({'ALARM CLOCK BAKELIKE CHOCOLATE', 'ALARM CLOCK BAKELIKE RED '})\n",
      "frozenset({'ALARM CLOCK BAKELIKE GREEN', 'ALARM CLOCK BAKELIKE ORANGE'})\n",
      "frozenset({'ALARM CLOCK BAKELIKE RED ', 'ALARM CLOCK BAKELIKE GREEN'})\n",
      "frozenset({'ALARM CLOCK BAKELIKE RED ', 'ALARM CLOCK BAKELIKE IVORY'})\n",
      "frozenset({'ALARM CLOCK BAKELIKE RED ', 'ALARM CLOCK BAKELIKE ORANGE'})\n",
      "frozenset({'ALARM CLOCK BAKELIKE PINK', 'ALARM CLOCK BAKELIKE RED '})\n",
      "frozenset({'PAINTED METAL PEARS ASSORTED', 'ASSORTED COLOUR BIRD ORNAMENT'})\n",
      "frozenset({'BAKING SET 9 PIECE RETROSPOT ', 'BAKING SET SPACEBOY DESIGN'})\n",
      "frozenset({'TOILET METAL SIGN', 'BATHROOM METAL SIGN'})\n",
      "frozenset({'BLUE HAPPY BIRTHDAY BUNTING', 'PINK HAPPY BIRTHDAY BUNTING'})\n",
      "frozenset({'RED STRIPE CERAMIC DRAWER KNOB', 'BLUE STRIPE CERAMIC DRAWER KNOB'})\n",
      "frozenset({'WHITE HANGING HEART T-LIGHT HOLDER', 'CANDLEHOLDER PINK HANGING HEART'})\n",
      "frozenset({'CHARLOTTE BAG PINK POLKADOT', 'RED RETROSPOT CHARLOTTE BAG'})\n",
      "frozenset({'CHILDRENS CUTLERY DOLLY GIRL ', 'CHILDRENS CUTLERY SPACEBOY '})\n",
      "frozenset({'CHRISTMAS CRAFT WHITE FAIRY ', 'CHRISTMAS CRAFT LITTLE FRIENDS'})\n",
      "frozenset({'SET 3 RETROSPOT TEA', 'COFFEE'})\n",
      "frozenset({'SUGAR', 'COFFEE'})\n",
      "\n",
      "----------------Oferta Diaria -------------------------\n",
      " \n",
      " la oferta de hoy es  ['CHILDRENS CUTLERY DOLLY GIRL ', 'CHILDRENS CUTLERY SPACEBOY '] \n",
      "\n",
      "----------------Oferta Diaria -------------------------\n",
      " \n",
      "///////////////////////////////////////////\n",
      "Ejecución del Algoritmo A-priori terminada.\n",
      "///////////////////////////////////////////\n"
     ]
    }
   ],
   "source": [
    "a_priori(df_bd_preprocesada,0.01,0.6)"
   ]
  },
  {
   "cell_type": "code",
   "execution_count": 3,
   "metadata": {},
   "outputs": [
    {
     "name": "stdout",
     "output_type": "stream",
     "text": [
      "Soporte:   0.02 \n",
      "\n",
      "Confianza:   0.6 \n",
      "\n",
      "\n",
      "Aplicando algoritmo A-priori... \n",
      "\n",
      "\n",
      "---------------top 20 reglas  -----------------\n",
      "frozenset({'ALARM CLOCK BAKELIKE RED ', 'ALARM CLOCK BAKELIKE GREEN'})\n",
      "frozenset({'ALARM CLOCK BAKELIKE PINK', 'ALARM CLOCK BAKELIKE RED '})\n",
      "frozenset({'DOLLY GIRL LUNCH BOX', 'SPACEBOY LUNCH BOX '})\n",
      "frozenset({'GARDENERS KNEELING PAD KEEP CALM ', 'GARDENERS KNEELING PAD CUP OF TEA '})\n",
      "frozenset({'PINK REGENCY TEACUP AND SAUCER', 'GREEN REGENCY TEACUP AND SAUCER'})\n",
      "frozenset({'GREEN REGENCY TEACUP AND SAUCER', 'ROSES REGENCY TEACUP AND SAUCER '})\n",
      "frozenset({'JUMBO BAG RED RETROSPOT', 'JUMBO BAG PINK POLKADOT'})\n",
      "frozenset({'JUMBO BAG RED RETROSPOT', 'JUMBO BAG STRAWBERRY'})\n",
      "frozenset({\"PAPER CHAIN KIT 50'S CHRISTMAS \", 'PAPER CHAIN KIT VINTAGE CHRISTMAS'})\n",
      "frozenset({'PINK REGENCY TEACUP AND SAUCER', 'ROSES REGENCY TEACUP AND SAUCER '})\n",
      "frozenset({'RED HANGING HEART T-LIGHT HOLDER', 'WHITE HANGING HEART T-LIGHT HOLDER'})\n",
      "frozenset({'', 'ALARM CLOCK BAKELIKE RED ', 'ALARM CLOCK BAKELIKE GREEN'})\n",
      "frozenset({'', 'ALARM CLOCK BAKELIKE PINK', 'ALARM CLOCK BAKELIKE RED '})\n",
      "frozenset({'', 'DOLLY GIRL LUNCH BOX', 'SPACEBOY LUNCH BOX '})\n",
      "frozenset({'', 'GARDENERS KNEELING PAD KEEP CALM ', 'GARDENERS KNEELING PAD CUP OF TEA '})\n",
      "frozenset({'', 'PINK REGENCY TEACUP AND SAUCER', 'GREEN REGENCY TEACUP AND SAUCER'})\n",
      "frozenset({'', 'GREEN REGENCY TEACUP AND SAUCER', 'ROSES REGENCY TEACUP AND SAUCER '})\n",
      "frozenset({'', 'JUMBO BAG RED RETROSPOT', 'JUMBO BAG PINK POLKADOT'})\n",
      "frozenset({'', 'JUMBO BAG RED RETROSPOT', 'JUMBO BAG STRAWBERRY'})\n",
      "frozenset({'', \"PAPER CHAIN KIT 50'S CHRISTMAS \", 'PAPER CHAIN KIT VINTAGE CHRISTMAS'})\n",
      "frozenset({'', 'PINK REGENCY TEACUP AND SAUCER', 'ROSES REGENCY TEACUP AND SAUCER '})\n",
      "\n",
      "----------------Oferta Diaria -------------------------\n",
      " \n",
      " la oferta de hoy es  ['DOLLY GIRL LUNCH BOX', 'SPACEBOY LUNCH BOX '] \n",
      "\n",
      "----------------Oferta Diaria -------------------------\n",
      " \n",
      "///////////////////////////////////////////\n",
      "Ejecución del Algoritmo A-priori terminada.\n",
      "///////////////////////////////////////////\n"
     ]
    }
   ],
   "source": [
    "a_priori(df_bd_preprocesada,0.02,0.6)"
   ]
  },
  {
   "cell_type": "code",
   "execution_count": 11,
   "metadata": {},
   "outputs": [
    {
     "name": "stdout",
     "output_type": "stream",
     "text": [
      "Soporte:   0.01 \n",
      "\n",
      "Confianza:   0.4 \n",
      "\n",
      "\n",
      "Aplicando algoritmo A-priori... \n",
      "\n",
      "\n",
      "---------------top 20 reglas  -----------------\n",
      "frozenset({'FANCY FONT BIRTHDAY CARD', ' '})\n",
      "frozenset({'KEY FOB ', ' BACK DOOR '})\n",
      "frozenset({'KEY FOB ', ' SHED'})\n",
      "frozenset({'60 CAKE CASES DOLLY GIRL DESIGN', 'PACK OF 72 RETROSPOT CAKE CASES'})\n",
      "frozenset({'60 CAKE CASES VINTAGE CHRISTMAS', 'SET OF 20 VINTAGE CHRISTMAS NAPKINS'})\n",
      "frozenset({'72 SWEETHEART FAIRY CAKE CASES', '60 TEATIME FAIRY CAKE CASES'})\n",
      "frozenset({'PACK OF 60 DINOSAUR CAKE CASES', '60 TEATIME FAIRY CAKE CASES'})\n",
      "frozenset({'PACK OF 60 PINK PAISLEY CAKE CASES', '60 TEATIME FAIRY CAKE CASES'})\n",
      "frozenset({'PACK OF 72 RETROSPOT CAKE CASES', '60 TEATIME FAIRY CAKE CASES'})\n",
      "frozenset({'PACK OF 72 RETROSPOT CAKE CASES', '72 SWEETHEART FAIRY CAKE CASES'})\n",
      "frozenset({'ALARM CLOCK BAKELIKE CHOCOLATE', 'ALARM CLOCK BAKELIKE GREEN'})\n",
      "frozenset({'ALARM CLOCK BAKELIKE CHOCOLATE', 'ALARM CLOCK BAKELIKE RED '})\n",
      "frozenset({'ALARM CLOCK BAKELIKE GREEN', 'ALARM CLOCK BAKELIKE IVORY'})\n",
      "frozenset({'ALARM CLOCK BAKELIKE GREEN', 'ALARM CLOCK BAKELIKE ORANGE'})\n",
      "frozenset({'ALARM CLOCK BAKELIKE PINK', 'ALARM CLOCK BAKELIKE GREEN'})\n",
      "frozenset({'ALARM CLOCK BAKELIKE RED ', 'ALARM CLOCK BAKELIKE GREEN'})\n",
      "frozenset({'ALARM CLOCK BAKELIKE PINK', 'ALARM CLOCK BAKELIKE IVORY'})\n",
      "frozenset({'ALARM CLOCK BAKELIKE RED ', 'ALARM CLOCK BAKELIKE IVORY'})\n",
      "frozenset({'ALARM CLOCK BAKELIKE RED ', 'ALARM CLOCK BAKELIKE ORANGE'})\n",
      "frozenset({'ALARM CLOCK BAKELIKE PINK', 'ALARM CLOCK BAKELIKE RED '})\n",
      "frozenset({'PAINTED METAL PEARS ASSORTED', 'ASSORTED COLOUR BIRD ORNAMENT'})\n",
      "\n",
      "----------------Oferta Diaria -------------------------\n",
      " \n",
      " la oferta de hoy es  ['ALARM CLOCK BAKELIKE GREEN', 'ALARM CLOCK BAKELIKE ORANGE'] \n",
      "\n",
      "----------------Oferta Diaria -------------------------\n",
      " \n",
      "///////////////////////////////////////////\n",
      "Ejecución del Algoritmo A-priori terminada.\n",
      "///////////////////////////////////////////\n"
     ]
    }
   ],
   "source": [
    "a_priori(df_bd_preprocesada,0.01,0.4)"
   ]
  },
  {
   "cell_type": "code",
   "execution_count": 8,
   "metadata": {},
   "outputs": [
    {
     "name": "stdout",
     "output_type": "stream",
     "text": [
      "Soporte:   0.01 \n",
      "\n",
      "Confianza:   0.2 \n",
      "\n",
      "\n",
      "Aplicando algoritmo A-priori... \n",
      "\n",
      "\n",
      "---------------top 20 reglas  -----------------\n",
      "frozenset({'FANCY FONT BIRTHDAY CARD', ' '})\n",
      "frozenset({'KEY FOB ', ' BACK DOOR '})\n",
      "frozenset({'KEY FOB ', ' SHED'})\n",
      "frozenset({'60 CAKE CASES DOLLY GIRL DESIGN', 'PACK OF 72 RETROSPOT CAKE CASES'})\n",
      "frozenset({'60 CAKE CASES VINTAGE CHRISTMAS', 'SET OF 20 VINTAGE CHRISTMAS NAPKINS'})\n",
      "frozenset({'72 SWEETHEART FAIRY CAKE CASES', '60 TEATIME FAIRY CAKE CASES'})\n",
      "frozenset({'PACK OF 60 DINOSAUR CAKE CASES', '60 TEATIME FAIRY CAKE CASES'})\n",
      "frozenset({'PACK OF 60 PINK PAISLEY CAKE CASES', '60 TEATIME FAIRY CAKE CASES'})\n",
      "frozenset({'PACK OF 72 RETROSPOT CAKE CASES', '60 TEATIME FAIRY CAKE CASES'})\n",
      "frozenset({'PACK OF 60 DINOSAUR CAKE CASES', '72 SWEETHEART FAIRY CAKE CASES'})\n",
      "frozenset({'PACK OF 72 RETROSPOT CAKE CASES', '72 SWEETHEART FAIRY CAKE CASES'})\n",
      "frozenset({'ALARM CLOCK BAKELIKE CHOCOLATE', 'ALARM CLOCK BAKELIKE GREEN'})\n",
      "frozenset({'ALARM CLOCK BAKELIKE CHOCOLATE', 'ALARM CLOCK BAKELIKE RED '})\n",
      "frozenset({'ALARM CLOCK BAKELIKE GREEN', 'ALARM CLOCK BAKELIKE IVORY'})\n",
      "frozenset({'ALARM CLOCK BAKELIKE GREEN', 'ALARM CLOCK BAKELIKE ORANGE'})\n",
      "frozenset({'ALARM CLOCK BAKELIKE PINK', 'ALARM CLOCK BAKELIKE GREEN'})\n",
      "frozenset({'ALARM CLOCK BAKELIKE RED ', 'ALARM CLOCK BAKELIKE GREEN'})\n",
      "frozenset({'ALARM CLOCK BAKELIKE PINK', 'ALARM CLOCK BAKELIKE IVORY'})\n",
      "frozenset({'ALARM CLOCK BAKELIKE RED ', 'ALARM CLOCK BAKELIKE IVORY'})\n",
      "frozenset({'ALARM CLOCK BAKELIKE RED ', 'ALARM CLOCK BAKELIKE ORANGE'})\n",
      "frozenset({'ALARM CLOCK BAKELIKE PINK', 'ALARM CLOCK BAKELIKE RED '})\n",
      "\n",
      "----------------Oferta Diaria -------------------------\n",
      " \n",
      " la oferta de hoy es  ['60 CAKE CASES DOLLY GIRL DESIGN', 'PACK OF 72 RETROSPOT CAKE CASES'] \n",
      "\n",
      "----------------Oferta Diaria -------------------------\n",
      " \n",
      "///////////////////////////////////////////\n",
      "Ejecución del Algoritmo A-priori terminada.\n",
      "///////////////////////////////////////////\n"
     ]
    }
   ],
   "source": [
    "a_priori(df_bd_preprocesada,0.01,0.2)"
   ]
  },
  {
   "cell_type": "code",
   "execution_count": null,
   "metadata": {},
   "outputs": [],
   "source": []
  }
 ],
 "metadata": {
  "kernelspec": {
   "display_name": "Python 3",
   "language": "python",
   "name": "python3"
  },
  "language_info": {
   "codemirror_mode": {
    "name": "ipython",
    "version": 3
   },
   "file_extension": ".py",
   "mimetype": "text/x-python",
   "name": "python",
   "nbconvert_exporter": "python",
   "pygments_lexer": "ipython3",
   "version": "3.7.6"
  }
 },
 "nbformat": 4,
 "nbformat_minor": 4
}
